{
 "cells": [
  {
   "cell_type": "markdown",
   "metadata": {},
   "source": [
    "### Load the dataset"
   ]
  },
  {
   "cell_type": "code",
   "execution_count": 5,
   "metadata": {},
   "outputs": [
    {
     "name": "stdout",
     "output_type": "stream",
     "text": [
      "400\n"
     ]
    }
   ],
   "source": [
    "from models import ClaimsDataset, Claim\n",
    "\n",
    "with open(\"data/claims_dataset_v2_manual.json\", \"r\") as f:\n",
    "    dataset = ClaimsDataset.model_validate_json(f.read())\n",
    "print(len(dataset.root))"
   ]
  },
  {
   "cell_type": "code",
   "execution_count": 3,
   "metadata": {},
   "outputs": [
    {
     "name": "stdout",
     "output_type": "stream",
     "text": [
      "{\n",
      "  \"description\": \"While driving on the highway, my car was involved in a collision. The impact caused shattered glass from the windshield, resulting in my spouse suffering a total and irrecoverable loss of sight in one eye. Is there a provision for compensation specifically for my spouse's injury under the policy limits?\",\n",
      "  \"explanation\": \"\",\n",
      "  \"coverage\": true,\n",
      "  \"sources\": [\n",
      "    {\n",
      "      \"paragraph\": \"If: - you or your spouse are injured solely as a result of an accident involving your car; or while travelling in or getting into or out of your car; or - any other person is injured -while travelling in or getting into or out of your car; we will pay you or your legal representatives or if you ask us to, the person injured or their legal representative the compensation specified below: Provided that death or loss occurs within three calendar months and solely and directly as a result of the accident.\",\n",
      "      \"file_name\": \"\",\n",
      "      \"page\": 21,\n",
      "      \"line\": 0\n",
      "    },\n",
      "    {\n",
      "      \"paragraph\": \"You are not covered for the following: - any person who, at the time of the injury, has not reached their sixteenth birthday; - in respect of death or injury as a result of suicide, attempted suicide or any intentional self-injury.\",\n",
      "      \"file_name\": \"\",\n",
      "      \"page\": 21,\n",
      "      \"line\": 0\n",
      "    }\n",
      "  ],\n",
      "  \"source_rule\": {\n",
      "    \"RISK_EVENT\": {\n",
      "      \"value\": \"ddbe9e38-c479-423f-b29c-27a32c62660d\",\n",
      "      \"description\": \"Accident involving your car\"\n",
      "    },\n",
      "    \"OBJECT_OF_COVERAGE\": {\n",
      "      \"value\": \"c7f09965-34dc-4eaf-8eeb-20585a518442\",\n",
      "      \"description\": \"Your spouse\"\n",
      "    },\n",
      "    \"LOSS\": {\n",
      "      \"value\": \"a16d564a-86a2-410c-a56a-15e5d1d93f27\",\n",
      "      \"description\": \"Total and irrecoverable loss of sight in one or both eye\"\n",
      "    },\n",
      "    \"INDEMNITY\": null,\n",
      "    \"SERVICE\": null\n",
      "  },\n",
      "  \"limit_unit\": \"GBP\",\n",
      "  \"limit_amount\": 10000.0,\n",
      "  \"limit_targets\": [\n",
      "    \"You (Policyholder)\",\n",
      "    \"Other members of your  household normally living with him\",\n",
      "    \"Your spouse\"\n",
      "  ]\n",
      "}\n"
     ]
    }
   ],
   "source": [
    "print(dataset.root[0].model_dump_json(indent=2))"
   ]
  },
  {
   "cell_type": "markdown",
   "metadata": {},
   "source": [
    "### Split Train / Test"
   ]
  },
  {
   "cell_type": "code",
   "execution_count": 6,
   "metadata": {},
   "outputs": [
    {
     "data": {
      "text/plain": [
       "(320, 80)"
      ]
     },
     "execution_count": 6,
     "metadata": {},
     "output_type": "execute_result"
    }
   ],
   "source": [
    "import random\n",
    "\n",
    "# Seed for reproducibility\n",
    "random.seed(42)\n",
    "\n",
    "# shuffle the dataset\n",
    "random.shuffle(dataset.root)\n",
    "train_size = int(len(dataset.root) * 0.8)\n",
    "train_dataset: list[Claim] = dataset.root[:train_size]\n",
    "test_dataset: list[Claim] = dataset.root[train_size:]\n",
    "\n",
    "len(train_dataset), len(test_dataset)"
   ]
  },
  {
   "cell_type": "markdown",
   "metadata": {},
   "source": [
    "### Establish baseline performance Qwen2.5(3B)"
   ]
  },
  {
   "cell_type": "code",
   "execution_count": null,
   "metadata": {},
   "outputs": [],
   "source": [
    "text = tokenizer.apply_chat_template([\n",
    "    {\"role\" : \"user\", \"content\" : \"How many r's are in strawberry?\"},\n",
    "], tokenize = False, add_generation_prompt = True)\n",
    "\n",
    "from vllm import SamplingParams\n",
    "sampling_params = SamplingParams(\n",
    "    temperature = 0.8,\n",
    "    top_p = 0.95,\n",
    "    max_tokens = 1024,\n",
    ")\n",
    "output = model.fast_generate(\n",
    "    [text],\n",
    "    sampling_params = sampling_params,\n",
    "    lora_request = None,\n",
    ")[0].outputs[0].text\n",
    "\n",
    "output"
   ]
  }
 ],
 "metadata": {
  "kernelspec": {
   "display_name": ".venv",
   "language": "python",
   "name": "python3"
  },
  "language_info": {
   "codemirror_mode": {
    "name": "ipython",
    "version": 3
   },
   "file_extension": ".py",
   "mimetype": "text/x-python",
   "name": "python",
   "nbconvert_exporter": "python",
   "pygments_lexer": "ipython3",
   "version": "3.12.0"
  }
 },
 "nbformat": 4,
 "nbformat_minor": 2
}
