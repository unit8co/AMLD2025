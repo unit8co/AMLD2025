{
  "cells": [
    {
      "cell_type": "markdown",
      "metadata": {
        "colab_type": "text",
        "id": "view-in-github"
      },
      "source": [
        "<a href=\"https://colab.research.google.com/unit8co/AMLD2025/03_finetuning_and_rl/001_finetuning_colab.ipynb\" target=\"_parent\"><img src=\"https://colab.research.google.com/assets/colab-badge.svg\" alt=\"Open In Colab\"/></a>"
      ]
    },
    {
      "cell_type": "markdown",
      "metadata": {
        "id": "7FP9iL_yPc0o"
      },
      "source": [
        "## Fine-tuning (& Reinforcement Learning)\n",
        "\n",
        "In this notebook, we'll focus exclusively on working with local models. We'll explore three key aspects:\n",
        "1. Evaluating how a small local model performs on coverage checks without any modifications\n",
        "2. Enhancing the model's performance through Supervised Fine Tuning (SFT)\n",
        "3. Investigating how reinforcement learning can improve the model's reasoning capabilities specifically for claim analysis (in the next notebook).\n",
        "\n",
        "For this workshop, we'll use [Qwen2.5 3B](https://qwenlm.github.io/blog/qwen2.5/), which offers impressive performance despite its compact size. Note: The 3B version is licensed for non-commercial use only.\n",
        "\n",
        "Our fine-tuning process will utilize [unsloth](https://docs.unsloth.ai/), a library that enables efficient LLM fine-tuning with minimal resources through several optimizations:\n",
        "- By default implementation of [QLoRA](https://arxiv.org/abs/2305.14314) for 4-bit model loading\n",
        "- Performance optimization via custom [OpenAI's triton](https://openai.com/index/triton/) CUDA kernels\n",
        "- Enhanced inference speed using [vllm](https://github.com/vllm-project/vllm) (an optimized LLM inference server deployment framework)\n",
        "\n",
        "Lastly, we'll leverage unsloth to implement Grouped Policy Optimization (GRPO) - the same technique used in DeepSeek R1 - to develop a specialized reasoning model for claim analysis in the next notebook."
      ]
    },
    {
      "cell_type": "markdown",
      "metadata": {
        "id": "Zq6IJ0h0Pc0p"
      },
      "source": [
        "### Qwen 2.5 baseline\n",
        "\n",
        "Before we begin finetuning, we need to establish a baseline with our local model Qwen 2.5 3B."
      ]
    },
    {
      "cell_type": "markdown",
      "metadata": {
        "id": "qN1qMyMQPc0p"
      },
      "source": [
        "#### load and prepare the dataset\n",
        "\n",
        "We will load the same dataset used in the previous part of this workshop: 400 synthetic claims related to AXA UK's car insurance policy."
      ]
    },
    {
      "cell_type": "code",
      "execution_count": null,
      "metadata": {
        "id": "XD7684oORWKW"
      },
      "outputs": [],
      "source": [
        "%%capture\n",
        "import sys\n",
        "\n",
        "if \"google.colab\" in sys.modules:\n",
        "    # clone the repo, install dependencies,\n",
        "    !git clone https://github.com/unit8co/AMLD2025.git\n",
        "    !curl -LsSf https://astral.sh/uv/install.sh | sh\n",
        "    !/root/.local/bin/uv pip install --system -r AMLD2025/pyproject.toml\n",
        "\n",
        "    # add cloned folder to python path to resolve import\n",
        "    sys.path.insert(0, \"AMLD2025/03_finetuning_and_rl\")"
      ]
    },
    {
      "cell_type": "code",
      "execution_count": null,
      "metadata": {
        "colab": {
          "base_uri": "https://localhost:8080/"
        },
        "id": "GoGgt2onPc0p",
        "outputId": "97b6e73f-1b78-4c75-c95f-117138ec528b"
      },
      "outputs": [
        {
          "name": "stdout",
          "output_type": "stream",
          "text": [
            "loaded dataset with 400 claims.\n"
          ]
        }
      ],
      "source": [
        "# we use pydantic models to help you navigate / type the dataset\n",
        "from models import ClaimsDataset\n",
        "\n",
        "with open(\"AMLD2025/data/claims_dataset_v2_manual.json\", \"r\") as f:\n",
        "    dataset = ClaimsDataset.model_validate_json(f.read())\n",
        "\n",
        "print(f\"loaded dataset with {len(dataset.root)} claims.\")"
      ]
    },
    {
      "cell_type": "code",
      "execution_count": null,
      "metadata": {
        "colab": {
          "base_uri": "https://localhost:8080/"
        },
        "collapsed": true,
        "id": "LEm_sC0PPc0q",
        "outputId": "d49252d0-a85e-40e1-9335-1bbf29f576b5"
      },
      "outputs": [
        {
          "name": "stdout",
          "output_type": "stream",
          "text": [
            "Help on class Claim in module models:\n",
            "\n",
            "class Claim(pydantic.main.BaseModel)\n",
            " |  Claim(*, description: str, explanation: str, coverage: bool, sources: list[models.Source], source_rule: models.SourceRuleContainer, limit_unit: str | None = None, limit_amount: float | None = None, limit_targets: list[str]) -> None\n",
            " |  \n",
            " |  Represents an individual insurance claim with all its details and\n",
            " |  associated rules.\n",
            " |  \n",
            " |  Attributes:\n",
            " |      description (str): Detailed description of the claim scenario\n",
            " |      explanation (str): Additional explanation or notes about the claim\n",
            " |      coverage (bool): Whether the claim is covered under the policy\n",
            " |      sources (list[Source]): Relevant policy document excerpts supporting\n",
            " |          the claim\n",
            " |      source_rule (SourceRuleContainer): Collection of rules applicable to\n",
            " |          the claim\n",
            " |      limit_unit (Optional[str]): Currency unit for the claim limit (e.g.,\n",
            " |          \"GBP\")\n",
            " |      limit_amount (Optional[float]): Maximum amount covered for the claim\n",
            " |      limit_targets (list[str]): list of entities to whom the limit applies\n",
            " |  \n",
            " |  Method resolution order:\n",
            " |      Claim\n",
            " |      pydantic.main.BaseModel\n",
            " |      builtins.object\n",
            " |  \n",
            " |  Data descriptors defined here:\n",
            " |  \n",
            " |  __weakref__\n",
            " |      list of weak references to the object\n",
            " |  \n",
            " |  ----------------------------------------------------------------------\n",
            " |  Data and other attributes defined here:\n",
            " |  \n",
            " |  __abstractmethods__ = frozenset()\n",
            " |  \n",
            " |  __annotations__ = {'coverage': <class 'bool'>, 'description': <class '...\n",
            " |  \n",
            " |  __class_vars__ = set()\n",
            " |  \n",
            " |  __private_attributes__ = {}\n",
            " |  \n",
            " |  __pydantic_complete__ = True\n",
            " |  \n",
            " |  __pydantic_computed_fields__ = {}\n",
            " |  \n",
            " |  __pydantic_core_schema__ = {'definitions': [{'cls': <class 'models.Sou...\n",
            " |  \n",
            " |  __pydantic_custom_init__ = False\n",
            " |  \n",
            " |  __pydantic_decorators__ = DecoratorInfos(validators={}, field_validato...\n",
            " |  \n",
            " |  __pydantic_fields__ = {'coverage': FieldInfo(annotation=bool, required...\n",
            " |  \n",
            " |  __pydantic_generic_metadata__ = {'args': (), 'origin': None, 'paramete...\n",
            " |  \n",
            " |  __pydantic_parent_namespace__ = None\n",
            " |  \n",
            " |  __pydantic_post_init__ = None\n",
            " |  \n",
            " |  __pydantic_serializer__ = SchemaSerializer(serializer=Model(\n",
            " |      Model...\n",
            " |  \n",
            " |  __pydantic_validator__ = SchemaValidator(title=\"Claim\", validator=Mode...\n",
            " |  \n",
            " |  __signature__ = <Signature (*, description: str, explanation: st...| N...\n",
            " |  \n",
            " |  model_config = {}\n",
            " |  \n",
            " |  ----------------------------------------------------------------------\n",
            " |  Methods inherited from pydantic.main.BaseModel:\n",
            " |  \n",
            " |  __copy__(self) -> 'Self'\n",
            " |      Returns a shallow copy of the model.\n",
            " |  \n",
            " |  __deepcopy__(self, memo: 'dict[int, Any] | None' = None) -> 'Self'\n",
            " |      Returns a deep copy of the model.\n",
            " |  \n",
            " |  __delattr__(self, item: 'str') -> 'Any'\n",
            " |      Implement delattr(self, name).\n",
            " |  \n",
            " |  __eq__(self, other: 'Any') -> 'bool'\n",
            " |      Return self==value.\n",
            " |  \n",
            " |  __getattr__(self, item: 'str') -> 'Any'\n",
            " |  \n",
            " |  __getstate__(self) -> 'dict[Any, Any]'\n",
            " |      Helper for pickle.\n",
            " |  \n",
            " |  __init__(self, /, **data: 'Any') -> 'None'\n",
            " |      Create a new model by parsing and validating input data from keyword arguments.\n",
            " |      \n",
            " |      Raises [`ValidationError`][pydantic_core.ValidationError] if the input data cannot be\n",
            " |      validated to form a valid model.\n",
            " |      \n",
            " |      `self` is explicitly positional-only to allow `self` as a field name.\n",
            " |  \n",
            " |  __iter__(self) -> 'TupleGenerator'\n",
            " |      So `dict(model)` works.\n",
            " |  \n",
            " |  __pretty__(self, fmt: 'typing.Callable[[Any], Any]', **kwargs: 'Any') -> 'typing.Generator[Any, None, None]' from pydantic._internal._repr.Representation\n",
            " |      Used by devtools (https://python-devtools.helpmanual.io/) to pretty print objects.\n",
            " |  \n",
            " |  __replace__(self, **changes: 'Any') -> 'Self'\n",
            " |      # Because we make use of `@dataclass_transform()`, `__replace__` is already synthesized by\n",
            " |      # type checkers, so we define the implementation in this `if not TYPE_CHECKING:` block:\n",
            " |  \n",
            " |  __repr__(self) -> 'str'\n",
            " |      Return repr(self).\n",
            " |  \n",
            " |  __repr_args__(self) -> '_repr.ReprArgs'\n",
            " |  \n",
            " |  __repr_name__(self) -> 'str' from pydantic._internal._repr.Representation\n",
            " |      Name of the instance's class, used in __repr__.\n",
            " |  \n",
            " |  __repr_recursion__(self, object: 'Any') -> 'str' from pydantic._internal._repr.Representation\n",
            " |      Returns the string representation of a recursive object.\n",
            " |  \n",
            " |  __repr_str__(self, join_str: 'str') -> 'str' from pydantic._internal._repr.Representation\n",
            " |  \n",
            " |  __rich_repr__(self) -> 'RichReprResult' from pydantic._internal._repr.Representation\n",
            " |      Used by Rich (https://rich.readthedocs.io/en/stable/pretty.html) to pretty print objects.\n",
            " |  \n",
            " |  __setattr__(self, name: 'str', value: 'Any') -> 'None'\n",
            " |      Implement setattr(self, name, value).\n",
            " |  \n",
            " |  __setstate__(self, state: 'dict[Any, Any]') -> 'None'\n",
            " |  \n",
            " |  __str__(self) -> 'str'\n",
            " |      Return str(self).\n",
            " |  \n",
            " |  copy(self, *, include: 'AbstractSetIntStr | MappingIntStrAny | None' = None, exclude: 'AbstractSetIntStr | MappingIntStrAny | None' = None, update: 'Dict[str, Any] | None' = None, deep: 'bool' = False) -> 'Self'\n",
            " |      Returns a copy of the model.\n",
            " |      \n",
            " |      !!! warning \"Deprecated\"\n",
            " |          This method is now deprecated; use `model_copy` instead.\n",
            " |      \n",
            " |      If you need `include` or `exclude`, use:\n",
            " |      \n",
            " |      ```python {test=\"skip\" lint=\"skip\"}\n",
            " |      data = self.model_dump(include=include, exclude=exclude, round_trip=True)\n",
            " |      data = {**data, **(update or {})}\n",
            " |      copied = self.model_validate(data)\n",
            " |      ```\n",
            " |      \n",
            " |      Args:\n",
            " |          include: Optional set or mapping specifying which fields to include in the copied model.\n",
            " |          exclude: Optional set or mapping specifying which fields to exclude in the copied model.\n",
            " |          update: Optional dictionary of field-value pairs to override field values in the copied model.\n",
            " |          deep: If True, the values of fields that are Pydantic models will be deep-copied.\n",
            " |      \n",
            " |      Returns:\n",
            " |          A copy of the model with included, excluded and updated fields as specified.\n",
            " |  \n",
            " |  dict(self, *, include: 'IncEx | None' = None, exclude: 'IncEx | None' = None, by_alias: 'bool' = False, exclude_unset: 'bool' = False, exclude_defaults: 'bool' = False, exclude_none: 'bool' = False) -> 'Dict[str, Any]'\n",
            " |  \n",
            " |  json(self, *, include: 'IncEx | None' = None, exclude: 'IncEx | None' = None, by_alias: 'bool' = False, exclude_unset: 'bool' = False, exclude_defaults: 'bool' = False, exclude_none: 'bool' = False, encoder: 'Callable[[Any], Any] | None' = PydanticUndefined, models_as_dict: 'bool' = PydanticUndefined, **dumps_kwargs: 'Any') -> 'str'\n",
            " |  \n",
            " |  model_copy(self, *, update: 'Mapping[str, Any] | None' = None, deep: 'bool' = False) -> 'Self'\n",
            " |      Usage docs: https://docs.pydantic.dev/2.10/concepts/serialization/#model_copy\n",
            " |      \n",
            " |      Returns a copy of the model.\n",
            " |      \n",
            " |      Args:\n",
            " |          update: Values to change/add in the new model. Note: the data is not validated\n",
            " |              before creating the new model. You should trust this data.\n",
            " |          deep: Set to `True` to make a deep copy of the model.\n",
            " |      \n",
            " |      Returns:\n",
            " |          New model instance.\n",
            " |  \n",
            " |  model_dump(self, *, mode: \"Literal['json', 'python'] | str\" = 'python', include: 'IncEx | None' = None, exclude: 'IncEx | None' = None, context: 'Any | None' = None, by_alias: 'bool' = False, exclude_unset: 'bool' = False, exclude_defaults: 'bool' = False, exclude_none: 'bool' = False, round_trip: 'bool' = False, warnings: \"bool | Literal['none', 'warn', 'error']\" = True, serialize_as_any: 'bool' = False) -> 'dict[str, Any]'\n",
            " |      Usage docs: https://docs.pydantic.dev/2.10/concepts/serialization/#modelmodel_dump\n",
            " |      \n",
            " |      Generate a dictionary representation of the model, optionally specifying which fields to include or exclude.\n",
            " |      \n",
            " |      Args:\n",
            " |          mode: The mode in which `to_python` should run.\n",
            " |              If mode is 'json', the output will only contain JSON serializable types.\n",
            " |              If mode is 'python', the output may contain non-JSON-serializable Python objects.\n",
            " |          include: A set of fields to include in the output.\n",
            " |          exclude: A set of fields to exclude from the output.\n",
            " |          context: Additional context to pass to the serializer.\n",
            " |          by_alias: Whether to use the field's alias in the dictionary key if defined.\n",
            " |          exclude_unset: Whether to exclude fields that have not been explicitly set.\n",
            " |          exclude_defaults: Whether to exclude fields that are set to their default value.\n",
            " |          exclude_none: Whether to exclude fields that have a value of `None`.\n",
            " |          round_trip: If True, dumped values should be valid as input for non-idempotent types such as Json[T].\n",
            " |          warnings: How to handle serialization errors. False/\"none\" ignores them, True/\"warn\" logs errors,\n",
            " |              \"error\" raises a [`PydanticSerializationError`][pydantic_core.PydanticSerializationError].\n",
            " |          serialize_as_any: Whether to serialize fields with duck-typing serialization behavior.\n",
            " |      \n",
            " |      Returns:\n",
            " |          A dictionary representation of the model.\n",
            " |  \n",
            " |  model_dump_json(self, *, indent: 'int | None' = None, include: 'IncEx | None' = None, exclude: 'IncEx | None' = None, context: 'Any | None' = None, by_alias: 'bool' = False, exclude_unset: 'bool' = False, exclude_defaults: 'bool' = False, exclude_none: 'bool' = False, round_trip: 'bool' = False, warnings: \"bool | Literal['none', 'warn', 'error']\" = True, serialize_as_any: 'bool' = False) -> 'str'\n",
            " |      Usage docs: https://docs.pydantic.dev/2.10/concepts/serialization/#modelmodel_dump_json\n",
            " |      \n",
            " |      Generates a JSON representation of the model using Pydantic's `to_json` method.\n",
            " |      \n",
            " |      Args:\n",
            " |          indent: Indentation to use in the JSON output. If None is passed, the output will be compact.\n",
            " |          include: Field(s) to include in the JSON output.\n",
            " |          exclude: Field(s) to exclude from the JSON output.\n",
            " |          context: Additional context to pass to the serializer.\n",
            " |          by_alias: Whether to serialize using field aliases.\n",
            " |          exclude_unset: Whether to exclude fields that have not been explicitly set.\n",
            " |          exclude_defaults: Whether to exclude fields that are set to their default value.\n",
            " |          exclude_none: Whether to exclude fields that have a value of `None`.\n",
            " |          round_trip: If True, dumped values should be valid as input for non-idempotent types such as Json[T].\n",
            " |          warnings: How to handle serialization errors. False/\"none\" ignores them, True/\"warn\" logs errors,\n",
            " |              \"error\" raises a [`PydanticSerializationError`][pydantic_core.PydanticSerializationError].\n",
            " |          serialize_as_any: Whether to serialize fields with duck-typing serialization behavior.\n",
            " |      \n",
            " |      Returns:\n",
            " |          A JSON string representation of the model.\n",
            " |  \n",
            " |  model_post_init(self, _BaseModel__context: 'Any') -> 'None'\n",
            " |      Override this method to perform additional initialization after `__init__` and `model_construct`.\n",
            " |      This is useful if you want to do some validation that requires the entire model to be initialized.\n",
            " |  \n",
            " |  ----------------------------------------------------------------------\n",
            " |  Class methods inherited from pydantic.main.BaseModel:\n",
            " |  \n",
            " |  __class_getitem__(typevar_values: 'type[Any] | tuple[type[Any], ...]') -> 'type[BaseModel] | _forward_ref.PydanticRecursiveRef'\n",
            " |  \n",
            " |  __get_pydantic_core_schema__(source: 'type[BaseModel]', handler: 'GetCoreSchemaHandler', /) -> 'CoreSchema'\n",
            " |      Hook into generating the model's CoreSchema.\n",
            " |      \n",
            " |      Args:\n",
            " |          source: The class we are generating a schema for.\n",
            " |              This will generally be the same as the `cls` argument if this is a classmethod.\n",
            " |          handler: A callable that calls into Pydantic's internal CoreSchema generation logic.\n",
            " |      \n",
            " |      Returns:\n",
            " |          A `pydantic-core` `CoreSchema`.\n",
            " |  \n",
            " |  __get_pydantic_json_schema__(core_schema: 'CoreSchema', handler: 'GetJsonSchemaHandler', /) -> 'JsonSchemaValue'\n",
            " |      Hook into generating the model's JSON schema.\n",
            " |      \n",
            " |      Args:\n",
            " |          core_schema: A `pydantic-core` CoreSchema.\n",
            " |              You can ignore this argument and call the handler with a new CoreSchema,\n",
            " |              wrap this CoreSchema (`{'type': 'nullable', 'schema': current_schema}`),\n",
            " |              or just call the handler with the original schema.\n",
            " |          handler: Call into Pydantic's internal JSON schema generation.\n",
            " |              This will raise a `pydantic.errors.PydanticInvalidForJsonSchema` if JSON schema\n",
            " |              generation fails.\n",
            " |              Since this gets called by `BaseModel.model_json_schema` you can override the\n",
            " |              `schema_generator` argument to that function to change JSON schema generation globally\n",
            " |              for a type.\n",
            " |      \n",
            " |      Returns:\n",
            " |          A JSON schema, as a Python object.\n",
            " |  \n",
            " |  __pydantic_init_subclass__(**kwargs: 'Any') -> 'None'\n",
            " |      This is intended to behave just like `__init_subclass__`, but is called by `ModelMetaclass`\n",
            " |      only after the class is actually fully initialized. In particular, attributes like `model_fields` will\n",
            " |      be present when this is called.\n",
            " |      \n",
            " |      This is necessary because `__init_subclass__` will always be called by `type.__new__`,\n",
            " |      and it would require a prohibitively large refactor to the `ModelMetaclass` to ensure that\n",
            " |      `type.__new__` was called in such a manner that the class would already be sufficiently initialized.\n",
            " |      \n",
            " |      This will receive the same `kwargs` that would be passed to the standard `__init_subclass__`, namely,\n",
            " |      any kwargs passed to the class definition that aren't used internally by pydantic.\n",
            " |      \n",
            " |      Args:\n",
            " |          **kwargs: Any keyword arguments passed to the class definition that aren't used internally\n",
            " |              by pydantic.\n",
            " |  \n",
            " |  construct(_fields_set: 'set[str] | None' = None, **values: 'Any') -> 'Self'\n",
            " |  \n",
            " |  from_orm(obj: 'Any') -> 'Self'\n",
            " |  \n",
            " |  model_construct(_fields_set: 'set[str] | None' = None, **values: 'Any') -> 'Self'\n",
            " |      Creates a new instance of the `Model` class with validated data.\n",
            " |      \n",
            " |      Creates a new model setting `__dict__` and `__pydantic_fields_set__` from trusted or pre-validated data.\n",
            " |      Default values are respected, but no other validation is performed.\n",
            " |      \n",
            " |      !!! note\n",
            " |          `model_construct()` generally respects the `model_config.extra` setting on the provided model.\n",
            " |          That is, if `model_config.extra == 'allow'`, then all extra passed values are added to the model instance's `__dict__`\n",
            " |          and `__pydantic_extra__` fields. If `model_config.extra == 'ignore'` (the default), then all extra passed values are ignored.\n",
            " |          Because no validation is performed with a call to `model_construct()`, having `model_config.extra == 'forbid'` does not result in\n",
            " |          an error if extra values are passed, but they will be ignored.\n",
            " |      \n",
            " |      Args:\n",
            " |          _fields_set: A set of field names that were originally explicitly set during instantiation. If provided,\n",
            " |              this is directly used for the [`model_fields_set`][pydantic.BaseModel.model_fields_set] attribute.\n",
            " |              Otherwise, the field names from the `values` argument will be used.\n",
            " |          values: Trusted or pre-validated data dictionary.\n",
            " |      \n",
            " |      Returns:\n",
            " |          A new instance of the `Model` class with validated data.\n",
            " |  \n",
            " |  model_json_schema(by_alias: 'bool' = True, ref_template: 'str' = '#/$defs/{model}', schema_generator: 'type[GenerateJsonSchema]' = <class 'pydantic.json_schema.GenerateJsonSchema'>, mode: 'JsonSchemaMode' = 'validation') -> 'dict[str, Any]'\n",
            " |      Generates a JSON schema for a model class.\n",
            " |      \n",
            " |      Args:\n",
            " |          by_alias: Whether to use attribute aliases or not.\n",
            " |          ref_template: The reference template.\n",
            " |          schema_generator: To override the logic used to generate the JSON schema, as a subclass of\n",
            " |              `GenerateJsonSchema` with your desired modifications\n",
            " |          mode: The mode in which to generate the schema.\n",
            " |      \n",
            " |      Returns:\n",
            " |          The JSON schema for the given model class.\n",
            " |  \n",
            " |  model_parametrized_name(params: 'tuple[type[Any], ...]') -> 'str'\n",
            " |      Compute the class name for parametrizations of generic classes.\n",
            " |      \n",
            " |      This method can be overridden to achieve a custom naming scheme for generic BaseModels.\n",
            " |      \n",
            " |      Args:\n",
            " |          params: Tuple of types of the class. Given a generic class\n",
            " |              `Model` with 2 type variables and a concrete model `Model[str, int]`,\n",
            " |              the value `(str, int)` would be passed to `params`.\n",
            " |      \n",
            " |      Returns:\n",
            " |          String representing the new class where `params` are passed to `cls` as type variables.\n",
            " |      \n",
            " |      Raises:\n",
            " |          TypeError: Raised when trying to generate concrete names for non-generic models.\n",
            " |  \n",
            " |  model_rebuild(*, force: 'bool' = False, raise_errors: 'bool' = True, _parent_namespace_depth: 'int' = 2, _types_namespace: 'MappingNamespace | None' = None) -> 'bool | None'\n",
            " |      Try to rebuild the pydantic-core schema for the model.\n",
            " |      \n",
            " |      This may be necessary when one of the annotations is a ForwardRef which could not be resolved during\n",
            " |      the initial attempt to build the schema, and automatic rebuilding fails.\n",
            " |      \n",
            " |      Args:\n",
            " |          force: Whether to force the rebuilding of the model schema, defaults to `False`.\n",
            " |          raise_errors: Whether to raise errors, defaults to `True`.\n",
            " |          _parent_namespace_depth: The depth level of the parent namespace, defaults to 2.\n",
            " |          _types_namespace: The types namespace, defaults to `None`.\n",
            " |      \n",
            " |      Returns:\n",
            " |          Returns `None` if the schema is already \"complete\" and rebuilding was not required.\n",
            " |          If rebuilding _was_ required, returns `True` if rebuilding was successful, otherwise `False`.\n",
            " |  \n",
            " |  model_validate(obj: 'Any', *, strict: 'bool | None' = None, from_attributes: 'bool | None' = None, context: 'Any | None' = None) -> 'Self'\n",
            " |      Validate a pydantic model instance.\n",
            " |      \n",
            " |      Args:\n",
            " |          obj: The object to validate.\n",
            " |          strict: Whether to enforce types strictly.\n",
            " |          from_attributes: Whether to extract data from object attributes.\n",
            " |          context: Additional context to pass to the validator.\n",
            " |      \n",
            " |      Raises:\n",
            " |          ValidationError: If the object could not be validated.\n",
            " |      \n",
            " |      Returns:\n",
            " |          The validated model instance.\n",
            " |  \n",
            " |  model_validate_json(json_data: 'str | bytes | bytearray', *, strict: 'bool | None' = None, context: 'Any | None' = None) -> 'Self'\n",
            " |      Usage docs: https://docs.pydantic.dev/2.10/concepts/json/#json-parsing\n",
            " |      \n",
            " |      Validate the given JSON data against the Pydantic model.\n",
            " |      \n",
            " |      Args:\n",
            " |          json_data: The JSON data to validate.\n",
            " |          strict: Whether to enforce types strictly.\n",
            " |          context: Extra variables to pass to the validator.\n",
            " |      \n",
            " |      Returns:\n",
            " |          The validated Pydantic model.\n",
            " |      \n",
            " |      Raises:\n",
            " |          ValidationError: If `json_data` is not a JSON string or the object could not be validated.\n",
            " |  \n",
            " |  model_validate_strings(obj: 'Any', *, strict: 'bool | None' = None, context: 'Any | None' = None) -> 'Self'\n",
            " |      Validate the given object with string data against the Pydantic model.\n",
            " |      \n",
            " |      Args:\n",
            " |          obj: The object containing string data to validate.\n",
            " |          strict: Whether to enforce types strictly.\n",
            " |          context: Extra variables to pass to the validator.\n",
            " |      \n",
            " |      Returns:\n",
            " |          The validated Pydantic model.\n",
            " |  \n",
            " |  parse_file(path: 'str | Path', *, content_type: 'str | None' = None, encoding: 'str' = 'utf8', proto: 'DeprecatedParseProtocol | None' = None, allow_pickle: 'bool' = False) -> 'Self'\n",
            " |  \n",
            " |  parse_obj(obj: 'Any') -> 'Self'\n",
            " |  \n",
            " |  parse_raw(b: 'str | bytes', *, content_type: 'str | None' = None, encoding: 'str' = 'utf8', proto: 'DeprecatedParseProtocol | None' = None, allow_pickle: 'bool' = False) -> 'Self'\n",
            " |  \n",
            " |  schema(by_alias: 'bool' = True, ref_template: 'str' = '#/$defs/{model}') -> 'Dict[str, Any]'\n",
            " |  \n",
            " |  schema_json(*, by_alias: 'bool' = True, ref_template: 'str' = '#/$defs/{model}', **dumps_kwargs: 'Any') -> 'str'\n",
            " |  \n",
            " |  update_forward_refs(**localns: 'Any') -> 'None'\n",
            " |  \n",
            " |  validate(value: 'Any') -> 'Self'\n",
            " |  \n",
            " |  ----------------------------------------------------------------------\n",
            " |  Readonly properties inherited from pydantic.main.BaseModel:\n",
            " |  \n",
            " |  __fields_set__\n",
            " |  \n",
            " |  model_computed_fields\n",
            " |      Get metadata about the computed fields defined on the model.\n",
            " |      \n",
            " |      Deprecation warning: you should be getting this information from the model class, not from an instance.\n",
            " |      In V3, this property will be removed from the `BaseModel` class.\n",
            " |      \n",
            " |      Returns:\n",
            " |          A mapping of computed field names to [`ComputedFieldInfo`][pydantic.fields.ComputedFieldInfo] objects.\n",
            " |  \n",
            " |  model_extra\n",
            " |      Get extra fields set during validation.\n",
            " |      \n",
            " |      Returns:\n",
            " |          A dictionary of extra fields, or `None` if `config.extra` is not set to `\"allow\"`.\n",
            " |  \n",
            " |  model_fields\n",
            " |      Get metadata about the fields defined on the model.\n",
            " |      \n",
            " |      Deprecation warning: you should be getting this information from the model class, not from an instance.\n",
            " |      In V3, this property will be removed from the `BaseModel` class.\n",
            " |      \n",
            " |      Returns:\n",
            " |          A mapping of field names to [`FieldInfo`][pydantic.fields.FieldInfo] objects.\n",
            " |  \n",
            " |  model_fields_set\n",
            " |      Returns the set of fields that have been explicitly set on this model instance.\n",
            " |      \n",
            " |      Returns:\n",
            " |          A set of strings representing the fields that have been set,\n",
            " |              i.e. that were not filled from defaults.\n",
            " |  \n",
            " |  ----------------------------------------------------------------------\n",
            " |  Data descriptors inherited from pydantic.main.BaseModel:\n",
            " |  \n",
            " |  __dict__\n",
            " |      dictionary for instance variables\n",
            " |  \n",
            " |  __pydantic_extra__\n",
            " |  \n",
            " |  __pydantic_fields_set__\n",
            " |  \n",
            " |  __pydantic_private__\n",
            " |  \n",
            " |  ----------------------------------------------------------------------\n",
            " |  Data and other attributes inherited from pydantic.main.BaseModel:\n",
            " |  \n",
            " |  __hash__ = None\n",
            " |  \n",
            " |  __pydantic_root_model__ = False\n",
            "\n"
          ]
        }
      ],
      "source": [
        "# you can use python 'help' to see the content of the pydantic model\n",
        "from models import Claim\n",
        "\n",
        "help(Claim)"
      ]
    },
    {
      "cell_type": "code",
      "execution_count": null,
      "metadata": {
        "colab": {
          "base_uri": "https://localhost:8080/"
        },
        "id": "996Pws8HPc0q",
        "outputId": "afc3c8f6-6218-49a3-e18c-3a0c4db9082e"
      },
      "outputs": [
        {
          "name": "stdout",
          "output_type": "stream",
          "text": [
            "there are 126 covered claims and 274 not covered claims.\n"
          ]
        }
      ],
      "source": [
        "claims = dataset.root\n",
        "covered_claims = [claim for claim in claims if claim.coverage]\n",
        "not_covered_claims = [claim for claim in claims if not claim.coverage]\n",
        "\n",
        "print(f\"there are {len(covered_claims)} covered claims and {len(not_covered_claims)} not covered claims.\")"
      ]
    },
    {
      "cell_type": "markdown",
      "metadata": {
        "id": "ivB5wTlNPc0q"
      },
      "source": [
        "The loaded dataset of 400 claims is notably unbalanced, with 68.5% not covered and 31.5% covered. When creating our train/test split, we'll need to monitor these proportions to maintain a representative distribution."
      ]
    },
    {
      "cell_type": "markdown",
      "metadata": {
        "id": "-rXXD8z2Pc0q"
      },
      "source": [
        "#### split train / test dataset\n",
        "\n",
        "To ensure comparable results, we'll split the dataset into training and test sets. We'll establish our baseline using only the test set. The training set will be used to finetune the model, after which we'll evaluate the finetuned model on the test set.\n",
        "\n",
        "Note: In a production environment, we would typically implement Stratified K-fold Cross Validation to maintain consistent covered/not-covered proportions across splits. For this workshop, we're keeping the approach straightforward."
      ]
    },
    {
      "cell_type": "code",
      "execution_count": null,
      "metadata": {
        "colab": {
          "base_uri": "https://localhost:8080/"
        },
        "id": "0uCC32uiPc0r",
        "outputId": "39243f88-4e4f-4eee-e8ac-db9f140dcaed"
      },
      "outputs": [
        {
          "name": "stdout",
          "output_type": "stream",
          "text": [
            "split 400 claims into 320 training claims and 80 testing claims\n"
          ]
        }
      ],
      "source": [
        "import random\n",
        "\n",
        "# shuffle randomly the claims with reproducibility\n",
        "random.seed(42)\n",
        "random.shuffle(claims)\n",
        "\n",
        "# keep 80% as training set, 20% as testing set.\n",
        "split_ratio = 0.8\n",
        "train_size = int(len(claims) * split_ratio)\n",
        "\n",
        "train_claims = claims[:train_size]\n",
        "test_claims = claims[train_size:]\n",
        "\n",
        "print(f\"split {len(claims)} claims into {len(train_claims)} training claims and {len(test_claims)} testing claims\")"
      ]
    },
    {
      "cell_type": "code",
      "execution_count": null,
      "metadata": {
        "colab": {
          "base_uri": "https://localhost:8080/"
        },
        "id": "_5gpDiN5Pc0r",
        "outputId": "cb75510a-5ca0-4057-fff3-7b998cf999af"
      },
      "outputs": [
        {
          "name": "stdout",
          "output_type": "stream",
          "text": [
            "30.625% covered, 69.375% not covered\n"
          ]
        }
      ],
      "source": [
        "\n",
        "covered_train_claims = [claim for claim in train_claims if claim.coverage]\n",
        "not_covered_train_claims = [claim for claim in train_claims if not claim.coverage]\n",
        "\n",
        "print(f\"{len(covered_train_claims)*100/len(train_claims)}% covered, {len(not_covered_train_claims)*100/len(train_claims)}% not covered\")"
      ]
    },
    {
      "cell_type": "code",
      "execution_count": null,
      "metadata": {
        "colab": {
          "base_uri": "https://localhost:8080/"
        },
        "id": "zeYOjc3FPc0r",
        "outputId": "d76e36e8-e5ea-4560-ce39-4b140a78e1f9"
      },
      "outputs": [
        {
          "name": "stdout",
          "output_type": "stream",
          "text": [
            "35.0% covered, 65.0% not covered\n"
          ]
        }
      ],
      "source": [
        "covered_test_claims = [claim for claim in test_claims if claim.coverage]\n",
        "not_covered_test_claims = [claim for claim in test_claims if not claim.coverage]\n",
        "\n",
        "print(f\"{len(covered_test_claims)*100/len(test_claims)}% covered, {len(not_covered_test_claims)*100/len(test_claims)}% not covered\")"
      ]
    },
    {
      "cell_type": "markdown",
      "metadata": {
        "id": "2v7wViZBPc0r"
      },
      "source": [
        "We see a slight difference in the proportion of covered not covered between our training and testing set that could potentially impact our end results. To do it better we could make a stratified split for example using sklearn."
      ]
    },
    {
      "cell_type": "markdown",
      "metadata": {
        "id": "wjtvJPT1Pc0s"
      },
      "source": [
        "### Establish baseline performance Qwen2.5(3B)"
      ]
    },
    {
      "cell_type": "markdown",
      "metadata": {
        "id": "pXhaBnVBXSOf"
      },
      "source": [
        "#### Model Definition\n",
        "\n",
        "Start by loading the model for huggingface. Thanks to unsloth we can load the model directly quantized in 4bits which enable to save a lot of bandwidth and storage."
      ]
    },
    {
      "cell_type": "code",
      "execution_count": null,
      "metadata": {
        "colab": {
          "base_uri": "https://localhost:8080/",
          "height": 673,
          "referenced_widgets": [
            "cdf5005557c1412bac6bcb200c5e7477",
            "7ef821154f89469facd135e6c753bd04",
            "978348097ca4443bbe704dc67c08a5df",
            "289fcccbc5c24c2cb2ba88224095c954",
            "536a5671b1614b428061ae8a976ec5dc",
            "a67dd91a9e4544ffb835f86202cc27c4",
            "7f8d0bd0e87e430eaf6ddae0eb88b34e",
            "eff43a3151134d83886809a0a5d6ac25",
            "e7e4d0b1e75241d1b146f71288bac94d",
            "388d59250de9466e8d4bad376ae50754",
            "36b3fdcf208045fc9065ad5b3ed83e0f",
            "909c70eb218340689e106dbe379c22fa",
            "2e68bd332805415b93954b414cd10a6d",
            "5e5ebbd7cde443f2847037248d463bb6",
            "f2ef88c4958642eea619392ef21419bc",
            "1032cfed967f463787397324c3214358",
            "4c121acc33084991acad5643e1ef0171",
            "ff95cc35a1414f9aab2ded2487af89fe",
            "f4bbe1fc94d748968cc68e5febc92a11",
            "41fccef43ad84699ac8318c782edae20",
            "ee5010e00c2246639c4fbdf5f2adff56",
            "9771087f47794ebd96fccb9eaaf289be"
          ]
        },
        "collapsed": true,
        "id": "01KFtFBcPc0s",
        "outputId": "bbb9fe0d-be41-4179-da8c-2bd29d2a4b50"
      },
      "outputs": [
        {
          "name": "stdout",
          "output_type": "stream",
          "text": [
            "==((====))==  Unsloth 2025.2.5: Fast Qwen2 patching. Transformers: 4.48.2.\n",
            "   \\\\   /|    GPU: Tesla T4. Max memory: 14.741 GB. Platform: Linux.\n",
            "O^O/ \\_/ \\    Torch: 2.5.1+cu124. CUDA: 7.5. CUDA Toolkit: 12.4. Triton: 3.1.0\n",
            "\\        /    Bfloat16 = FALSE. FA [Xformers = 0.0.28.post3. FA2 = False]\n",
            " \"-____-\"     Free Apache license: http://github.com/unslothai/unsloth\n",
            "Unsloth: Fast downloading is enabled - ignore downloading bars which are red colored!\n",
            "Unsloth: vLLM loading unsloth/qwen2.5-3b-instruct-unsloth-bnb-4bit with actual GPU utilization = 49.66%\n",
            "Unsloth: Your GPU has CUDA compute capability 7.5 with VRAM = 14.74 GB.\n",
            "Unsloth: Using conservativeness = 1.0. Chunked prefill tokens = 1024. Num Sequences = 192.\n",
            "Unsloth: vLLM's KV Cache can use up to 4.9 GB. Also swap space = 2 GB.\n",
            "WARNING 02-13 13:48:44 config.py:2386] Casting torch.bfloat16 to torch.float16.\n",
            "INFO 02-13 13:49:00 config.py:542] This model supports multiple tasks: {'reward', 'classify', 'generate', 'embed', 'score'}. Defaulting to 'generate'.\n",
            "Unsloth: vLLM Bitsandbytes config using kwargs = {'load_in_8bit': False, 'load_in_4bit': True, 'bnb_4bit_compute_dtype': 'float16', 'bnb_4bit_quant_storage': 'uint8', 'bnb_4bit_quant_type': 'nf4', 'bnb_4bit_use_double_quant': True, 'llm_int8_enable_fp32_cpu_offload': False, 'llm_int8_has_fp16_weight': False, 'llm_int8_skip_modules': ['lm_head', 'multi_modal_projector', 'merger', 'modality_projection', 'model.layers.2.mlp', 'model.layers.3.mlp', 'model.layers.30.mlp'], 'llm_int8_threshold': 6.0}\n",
            "INFO 02-13 13:49:00 llm_engine.py:234] Initializing a V0 LLM engine (v0.7.2) with config: model='unsloth/qwen2.5-3b-instruct-unsloth-bnb-4bit', speculative_config=None, tokenizer='unsloth/qwen2.5-3b-instruct-unsloth-bnb-4bit', skip_tokenizer_init=False, tokenizer_mode=auto, revision=None, override_neuron_config=None, tokenizer_revision=None, trust_remote_code=False, dtype=torch.float16, max_seq_len=1024, download_dir=None, load_format=LoadFormat.BITSANDBYTES, tensor_parallel_size=1, pipeline_parallel_size=1, disable_custom_all_reduce=False, quantization=bitsandbytes, enforce_eager=False, kv_cache_dtype=auto,  device_config=cuda, decoding_config=DecodingConfig(guided_decoding_backend='xgrammar'), observability_config=ObservabilityConfig(otlp_traces_endpoint=None, collect_model_forward_time=False, collect_model_execute_time=False), seed=0, served_model_name=unsloth/qwen2.5-3b-instruct-unsloth-bnb-4bit, num_scheduler_steps=1, multi_step_stream_outputs=True, enable_prefix_caching=True, chunked_prefill_enabled=False, use_async_output_proc=True, disable_mm_preprocessor_cache=False, mm_processor_kwargs=None, pooler_config=None, compilation_config={\"level\":0,\"splitting_ops\":[],\"compile_sizes\":[],\"cudagraph_capture_sizes\":[192,184,176,168,160,152,144,136,128,120,112,104,96,88,80,72,64,56,48,40,32,24,16,8,4,2,1],\"max_capture_size\":192}, use_cached_outputs=False, \n",
            "INFO 02-13 13:49:02 cuda.py:179] Cannot use FlashAttention-2 backend for Volta and Turing GPUs.\n",
            "INFO 02-13 13:49:02 cuda.py:227] Using XFormers backend.\n",
            "INFO 02-13 13:49:03 model_runner.py:1110] Starting to load model unsloth/qwen2.5-3b-instruct-unsloth-bnb-4bit...\n"
          ]
        },
        {
          "name": "stderr",
          "output_type": "stream",
          "text": [
            "[W213 13:49:03.550827073 CUDAAllocatorConfig.h:28] Warning: expandable_segments not supported on this platform (function operator())\n"
          ]
        },
        {
          "name": "stdout",
          "output_type": "stream",
          "text": [
            "INFO 02-13 13:49:03 loader.py:1102] Loading weights with BitsAndBytes quantization.  May take a while ...\n",
            "INFO 02-13 13:49:09 weight_utils.py:252] Using model weights format ['*.safetensors']\n"
          ]
        },
        {
          "data": {
            "application/vnd.jupyter.widget-view+json": {
              "model_id": "cdf5005557c1412bac6bcb200c5e7477",
              "version_major": 2,
              "version_minor": 0
            },
            "text/plain": [
              "Loading safetensors checkpoint shards:   0% Completed | 0/1 [00:00<?, ?it/s]\n"
            ]
          },
          "metadata": {},
          "output_type": "display_data"
        },
        {
          "data": {
            "application/vnd.jupyter.widget-view+json": {
              "model_id": "909c70eb218340689e106dbe379c22fa",
              "version_major": 2,
              "version_minor": 0
            },
            "text/plain": [
              "Loading safetensors checkpoint shards:   0% Completed | 0/1 [00:00<?, ?it/s]\n"
            ]
          },
          "metadata": {},
          "output_type": "display_data"
        },
        {
          "name": "stdout",
          "output_type": "stream",
          "text": [
            "INFO 02-13 13:49:24 model_runner.py:1115] Loading model weights took 2.2160 GB\n",
            "INFO 02-13 13:49:24 punica_selector.py:18] Using PunicaWrapperGPU.\n",
            "INFO 02-13 13:49:28 worker.py:267] Memory profiling takes 3.42 seconds\n",
            "INFO 02-13 13:49:28 worker.py:267] the current vLLM instance can use total_gpu_memory (14.74GiB) x gpu_memory_utilization (0.50) = 7.32GiB\n",
            "INFO 02-13 13:49:28 worker.py:267] model weights take 2.22GiB; non_torch_memory takes 0.05GiB; PyTorch activation peak memory takes 1.05GiB; the rest of the memory reserved for KV Cache is 4.01GiB.\n",
            "INFO 02-13 13:49:28 executor_base.py:110] # CUDA blocks: 7300, # CPU blocks: 3640\n",
            "INFO 02-13 13:49:28 executor_base.py:115] Maximum concurrency for 1024 tokens per request: 114.06x\n",
            "INFO 02-13 13:49:30 model_runner.py:1434] Capturing cudagraphs for decoding. This may lead to unexpected consequences if the model is not static. To run the model in eager mode, set 'enforce_eager=True' or use '--enforce-eager' in the CLI. If out-of-memory error occurs during cudagraph capture, consider decreasing `gpu_memory_utilization` or switching to eager mode. You can also reduce the `max_num_seqs` as needed to decrease memory usage.\n"
          ]
        },
        {
          "name": "stderr",
          "output_type": "stream",
          "text": [
            "Capturing CUDA graph shapes: 100%|██████████| 27/27 [00:50<00:00,  1.86s/it]"
          ]
        },
        {
          "name": "stdout",
          "output_type": "stream",
          "text": [
            "INFO 02-13 13:50:20 model_runner.py:1562] Graph capturing finished in 50 secs, took 0.62 GiB\n",
            "INFO 02-13 13:50:20 llm_engine.py:431] init engine (profile, create kv cache, warmup model) took 56.41 seconds\n"
          ]
        },
        {
          "name": "stderr",
          "output_type": "stream",
          "text": [
            "\n",
            "Unsloth 2025.2.5 patched 36 layers with 36 QKV layers, 36 O layers and 36 MLP layers.\n"
          ]
        }
      ],
      "source": [
        "from unsloth import FastLanguageModel\n",
        "\n",
        "max_seq_length = 1024  # Can increase for longer reasoning traces\n",
        "lora_rank = 64  # Larger rank = smarter, but slower\n",
        "\n",
        "model, tokenizer = FastLanguageModel.from_pretrained(\n",
        "    model_name=\"Qwen/Qwen2.5-3B-Instruct\",\n",
        "    max_seq_length=max_seq_length,\n",
        "    load_in_4bit=True,  # False for LoRA 16bit\n",
        "    fast_inference=True,  # Enable vLLM fast inference\n",
        "    max_lora_rank=lora_rank,\n",
        "    gpu_memory_utilization=0.5,  # Reduce if out of memory\n",
        ")\n",
        "\n",
        "model = FastLanguageModel.get_peft_model(\n",
        "    model,\n",
        "    r=lora_rank,  # Choose any number > 0 ! Suggested 8, 16, 32, 64, 128\n",
        "    target_modules=[\n",
        "        \"q_proj\",\n",
        "        \"k_proj\",\n",
        "        \"v_proj\",\n",
        "        \"o_proj\",\n",
        "        \"gate_proj\",\n",
        "        \"up_proj\",\n",
        "        \"down_proj\",\n",
        "    ],  # Remove QKVO if out of memory\n",
        "    lora_alpha=lora_rank,\n",
        "    use_gradient_checkpointing=\"unsloth\",  # Enable long context finetuning\n",
        "    random_state=3407,\n",
        ")"
      ]
    },
    {
      "cell_type": "markdown",
      "metadata": {},
      "source": [
        "If you are curious about what `get_peft_model` is doing:\n",
        "\n",
        "Here we just load the model and apply peft which modify each relevant modules / layer from regular pytorch modules to LoRa adapted one as follow:\n",
        "\n",
        "```python\n",
        "# Original layer\n",
        "class LinearLayer:\n",
        "    def __init__(self):\n",
        "        self.weight = Parameter(...)  # Full weight matrix\n",
        "    \n",
        "    def forward(self, x):\n",
        "        return x @ self.weight.T\n",
        "```\n",
        "\n",
        "becomes\n",
        "\n",
        "```python\n",
        "# LoRA wrapped version\n",
        "class LoRALayer:\n",
        "    def __init__(self, base_layer, rank=8):\n",
        "        self.base_layer = base_layer          # Original layer\n",
        "        self.lora_A = Parameter(...)          # Low rank matrix A (smaller)\n",
        "        self.lora_B = Parameter(...)          # Low rank matrix B (smaller)\n",
        "        self.scaling = alpha / rank           # Scaling factor\n",
        "        \n",
        "    def forward(self, x):\n",
        "        # Original computation\n",
        "        base_output = self.base_layer(x)\n",
        "        # LoRA computation\n",
        "        lora_output = (x @ self.lora_A @ self.lora_B) * self.scaling\n",
        "        # Combine both\n",
        "        return base_output + lora_output\n",
        "```\n",
        "\n",
        "Additionaly the basebone model is loaded in 4bit which translate to using the following `BitsAndBytesConfig`:\n",
        "\n",
        "```python\n",
        "bnb_config = BitsAndBytesConfig(\n",
        "    load_in_4bit              = True,\n",
        "    bnb_4bit_use_double_quant = True,\n",
        "    bnb_4bit_quant_type       = \"nf4\",\n",
        "    bnb_4bit_compute_dtype    = dtype,\n",
        ")\n",
        "```\n",
        "\n",
        "This setup basically enable [QLoRA](https://arxiv.org/pdf/2305.14314) where the backbone model is quantised using nf4 (4 bit optimised quantisation)."
      ]
    },
    {
      "cell_type": "markdown",
      "metadata": {
        "id": "fBIkEVFtXksU"
      },
      "source": [
        "We will then define the prompt that we will use to answer the coverage question. Feel free to experiment with different prompt here as it can significantly impact the accuracy already."
      ]
    },
    {
      "cell_type": "markdown",
      "metadata": {},
      "source": [
        "#### Prompt Definition"
      ]
    },
    {
      "cell_type": "code",
      "execution_count": null,
      "metadata": {
        "id": "4tRFd1hpPc0s"
      },
      "outputs": [],
      "source": [
        "PROMPT = \"\"\"\n",
        "You are an Insurance Claim Expert.\n",
        "You are given a claim description and a list of sources extracted from the insurance policy.\n",
        "You need to determine if the claim is covered by the insurance policy based on the sources.\n",
        "\n",
        "Claim description:\n",
        "{claim.description}\n",
        "\n",
        "Sources:\n",
        "{sources}\n",
        "\n",
        "Format:\n",
        "Return only \"covered\" or \"not covered\"\n",
        "\"\"\".strip()"
      ]
    },
    {
      "cell_type": "code",
      "execution_count": null,
      "metadata": {
        "id": "g_fhqljYPc0s"
      },
      "outputs": [],
      "source": [
        "def claim_to_prompt(claim: Claim):\n",
        "    \"\"\"apply chat template and format the prompt\"\"\"\n",
        "    return tokenizer.apply_chat_template(\n",
        "        [\n",
        "            {\n",
        "                \"role\": \"user\",\n",
        "                \"content\": PROMPT.format(\n",
        "                    claim=claim,\n",
        "                    sources=\"\\n\".join(\n",
        "                        [\n",
        "                            f\"{i + 1}. {source.paragraph}\"\n",
        "                            for i, source in enumerate(claim.sources)\n",
        "                        ]\n",
        "                    ),\n",
        "                ),\n",
        "            }\n",
        "        ],\n",
        "        tokenize=False,\n",
        "        add_generation_prompt=True,\n",
        "    )"
      ]
    },
    {
      "cell_type": "code",
      "execution_count": null,
      "metadata": {
        "colab": {
          "base_uri": "https://localhost:8080/"
        },
        "collapsed": true,
        "id": "mRFLZ2pjPc0s",
        "outputId": "69792821-7e4a-4846-833a-2d8b2a5e20ce"
      },
      "outputs": [
        {
          "name": "stdout",
          "output_type": "stream",
          "text": [
            "<|im_start|>system\n",
            "You are Qwen, created by Alibaba Cloud. You are a helpful assistant.<|im_end|>\n",
            "<|im_start|>user\n",
            "You are an Insurance Claim Expert.\n",
            "You are given a claim description and a list of sources extracted from the insurance policy.\n",
            "You need to determine if the claim is covered by the insurance policy based on the sources.\n",
            "\n",
            "Claim description:\n",
            "I discovered someone had attempted to steal my car. The driver's side door lock was damaged, and the dashboard was dismantled, with the stereo missing. Is there any provision for covering transportation and accomodation?\n",
            "\n",
            "Sources:\n",
            "1. If your car, accessories or spare parts are lost, stolen or damaged, we will: - repair the damage; - replace what is lost or damaged and is too expensive to repair; or - pay you the cost of the loss or damage.\n",
            "2. If your car is damaged, we will use one of our recommended repairers to repair it. If you choose not to use them, we may not pay more than our recommended repairer would have charged and we may choose to settle the claim by a financial payment. Following damage to your car, we may move your car to a place of safe and free storage pending settlement of any claim.\n",
            "3. Where your car is not recovered following a theft or is beyond economical repair we will pay you the market value of your car, including accessories and spare parts at the time they are lost, stolen or damaged.\n",
            "4. If we settle a claim as a total loss, we will then take ownership of your car.\n",
            "5. Accessories and spare parts of your car, which are in your private garage at the time of their loss or damage, will also be covered.\n",
            "6. You are not covered for the following:\n",
            "7. Loss or theft of your car by deception. This includes, but is not limited to: Loss or theft as a result of handing the keys of your car over to someone who claims to be a buyer or agent without taking precautions to ensure your car is returned to you. An example of an acceptable precaution is to attend the test drive with the prospective buyer. Loss or theft as a result of someone purchasing your car using a payment method which does not result in you receiving the payment for your car.\n",
            "8. Loss or damage to your car by theft or attempted theft if you or anyone else has left it unlocked or with keys or keyless entry system in your car, or on it.\n",
            "\n",
            "Format:\n",
            "Return only \"covered\" or \"not covered\"<|im_end|>\n",
            "<|im_start|>assistant\n",
            "\n"
          ]
        }
      ],
      "source": [
        "prompts = [claim_to_prompt(claim) for claim in test_claims]\n",
        "print(prompts[0])"
      ]
    },
    {
      "cell_type": "markdown",
      "metadata": {},
      "source": [
        "#### Inference"
      ]
    },
    {
      "cell_type": "markdown",
      "metadata": {
        "id": "vZG_vZwYZiVW"
      },
      "source": [
        "Before running inferences with our model and looking at the result it's good to check the size of the output so that we can limit the generation to only the amount of token needed.\n",
        "\n",
        "Common approach today to build tokenizer is to use algorithm similar to Byte Pair Encoding (BPE) which is \"trained\" on a dataset and determines the amount of token for a specific word / set of words. I highly recommend this video from Andrej Karpathy to dive deeper into tokenizer if interested: [video](https://www.youtube.com/watch?v=zduSFxRajkE)"
      ]
    },
    {
      "cell_type": "code",
      "execution_count": null,
      "metadata": {
        "colab": {
          "base_uri": "https://localhost:8080/"
        },
        "id": "OZFr6aqSPc0t",
        "outputId": "49a49ab8-d9a6-4fd2-9b9a-d8657e7038e1"
      },
      "outputs": [
        {
          "name": "stdout",
          "output_type": "stream",
          "text": [
            "num tokens covered: 1\n",
            "num tokens not covered: 2\n"
          ]
        }
      ],
      "source": [
        "print(f\"num tokens covered: {len(tokenizer.tokenize('covered'))}\")\n",
        "print(f\"num tokens not covered: {len(tokenizer.tokenize('not covered'))}\")"
      ]
    },
    {
      "cell_type": "markdown",
      "metadata": {
        "id": "WR--uYoAasYH"
      },
      "source": [
        "In here see that covered takes 1 token and 'not covered' takes 2 tokens so we will cap our generation to 2 tokens."
      ]
    },
    {
      "cell_type": "code",
      "execution_count": null,
      "metadata": {
        "colab": {
          "base_uri": "https://localhost:8080/"
        },
        "id": "iv2dW-trPc0t",
        "outputId": "4c303dde-fd65-4ddf-9ab3-58ec55401ca8"
      },
      "outputs": [
        {
          "name": "stderr",
          "output_type": "stream",
          "text": [
            "Processed prompts: 100%|██████████| 80/80 [00:14<00:00,  5.48it/s, est. speed input: 2009.20 toks/s, output: 10.96 toks/s]\n"
          ]
        }
      ],
      "source": [
        "from vllm import SamplingParams\n",
        "\n",
        "sampling_params = SamplingParams(\n",
        "    temperature=0.8,\n",
        "    top_p=0.95,\n",
        "    max_tokens=2,  # set to 2 as not covered is 2 tokens\n",
        ")\n",
        "outputs = model.fast_generate(\n",
        "    prompts,\n",
        "    sampling_params=sampling_params,\n",
        "    lora_request=None,\n",
        ")"
      ]
    },
    {
      "cell_type": "code",
      "execution_count": null,
      "metadata": {
        "colab": {
          "base_uri": "https://localhost:8080/"
        },
        "id": "u-oj4B5bPc0t",
        "outputId": "a991808b-b98f-4ed0-cf81-95a444a6468f"
      },
      "outputs": [
        {
          "name": "stdout",
          "output_type": "stream",
          "text": [
            "['not covered', 'covered', 'not covered', 'covered', 'not covered', 'not covered', 'not covered', 'not covered', 'not covered', 'not covered', 'not covered', 'not covered', 'covered', 'covered', 'not covered', 'not covered', 'not covered', 'not covered', 'not covered', 'not covered', 'not covered', 'not covered', 'not covered', 'not covered', 'not covered', 'not covered', 'not covered', 'not covered', 'covered', 'not covered', 'not covered', 'not covered', 'covered', 'not covered', 'not covered', 'not covered', 'not covered', 'not covered', 'not covered', 'not covered', 'not covered', 'not covered', 'not covered', 'not covered', 'not covered', 'covered', 'not covered', 'not covered', 'covered', 'not covered', 'not covered', 'not covered', 'not covered', 'not covered', 'not covered', 'not covered', 'not covered', 'not covered', 'not covered', 'not covered', 'covered', 'covered', 'not covered', 'covered', 'not covered', 'not covered', 'not covered', 'not covered', 'not covered', 'not covered', 'not covered', 'not covered', 'not covered', 'not covered', 'not covered', 'covered', 'not covered', 'not covered', 'covered', 'not covered']\n"
          ]
        }
      ],
      "source": [
        "responses = []\n",
        "for response_output in outputs:\n",
        "    responses.append(response_output.outputs[0].text)\n",
        "\n",
        "print(responses)"
      ]
    },
    {
      "cell_type": "markdown",
      "metadata": {},
      "source": [
        "#### Evaluation & Results"
      ]
    },
    {
      "cell_type": "code",
      "execution_count": null,
      "metadata": {
        "colab": {
          "base_uri": "https://localhost:8080/"
        },
        "id": "6qEVWmitPc0t",
        "outputId": "6cad9a09-bffe-45c5-977b-9549321e90ae"
      },
      "outputs": [
        {
          "name": "stdout",
          "output_type": "stream",
          "text": [
            "Predicted 13 claims as covered\n",
            "Predicted 67 claims as not covered\n"
          ]
        }
      ],
      "source": [
        "print(\n",
        "    f\"Predicted {len([response for response in responses if response == 'covered'])} claims as covered\"\n",
        ")\n",
        "print(\n",
        "    f\"Predicted {len([response for response in responses if response == 'not covered'])} claims as not covered\"\n",
        ")"
      ]
    },
    {
      "cell_type": "markdown",
      "metadata": {
        "id": "roEXeUWWbWvC"
      },
      "source": [
        "Already we observe here that the total amount is still 80 claims as the size of our test dataset which is already a very good result considering we are using a very small model: it perfectly followed the format instruction from the prompt."
      ]
    },
    {
      "cell_type": "code",
      "execution_count": null,
      "metadata": {
        "colab": {
          "base_uri": "https://localhost:8080/"
        },
        "id": "pQIPUytEPc0t",
        "outputId": "ba78ff6f-81e9-4cf3-d81c-505850fb7701"
      },
      "outputs": [
        {
          "name": "stdout",
          "output_type": "stream",
          "text": [
            "Accuracy: 0.7375\n",
            "Precision: 0.7692307692307693\n",
            "Recall: 0.35714285714285715\n",
            "F1 Score: 0.4878048780487805\n"
          ]
        }
      ],
      "source": [
        "from sklearn.metrics import accuracy_score, precision_score, recall_score, f1_score\n",
        "\n",
        "y_pred = [response.strip() == \"covered\" for response in responses]\n",
        "y_true = [claim.coverage for claim in test_claims]\n",
        "\n",
        "print(f\"Accuracy: {accuracy_score(y_true, y_pred)}\")\n",
        "print(f\"Precision: {precision_score(y_true, y_pred)}\")\n",
        "print(f\"Recall: {recall_score(y_true, y_pred)}\")\n",
        "print(f\"F1 Score: {f1_score(y_true, y_pred)}\")\n"
      ]
    },
    {
      "cell_type": "code",
      "execution_count": null,
      "metadata": {
        "colab": {
          "base_uri": "https://localhost:8080/",
          "height": 564
        },
        "id": "zHFQrW0hPc0t",
        "outputId": "3d6544df-cfe2-4b3e-c97a-24ea194992d6"
      },
      "outputs": [
        {
          "data": {
            "image/png": "[encoded data removed]",
            "text/plain": [
              "<Figure size 800x600 with 2 Axes>"
            ]
          },
          "metadata": {},
          "output_type": "display_data"
        }
      ],
      "source": [
        "from sklearn.metrics import confusion_matrix\n",
        "import seaborn as sns\n",
        "import matplotlib.pyplot as plt\n",
        "\n",
        "# Convert responses to boolean (True for 'covered', False for 'not covered')\n",
        "y_pred = [response.strip() == \"covered\" for response in responses]\n",
        "y_true = [claim.coverage for claim in test_claims]\n",
        "\n",
        "# Create confusion matrix\n",
        "cm = confusion_matrix(y_true, y_pred)\n",
        "\n",
        "# Plot using seaborn\n",
        "plt.figure(figsize=(8, 6))\n",
        "sns.heatmap(\n",
        "    cm,\n",
        "    annot=True,\n",
        "    fmt=\"d\",\n",
        "    cmap=\"Blues\",\n",
        "    xticklabels=[\"Not Covered\", \"Covered\"],\n",
        "    yticklabels=[\"Not Covered\", \"Covered\"],\n",
        ")\n",
        "plt.title(\"Confusion Matrix\")\n",
        "plt.ylabel(\"True Label\")\n",
        "plt.xlabel(\"Predicted Label\")\n",
        "plt.show()"
      ]
    },
    {
      "cell_type": "markdown",
      "metadata": {},
      "source": [
        "While we wait for the baseline model to run for everyone, here are several ways you can experiment with improving the model's performance:\n",
        "\n",
        "1. Prompt Engineering\n",
        "   - Modify the prompt structure and wording\n",
        "   - Try different instruction formats\n",
        "   - Add examples or context\n",
        "\n",
        "2. LoRA Parameter Tuning\n",
        "   - Adjust the LoRA rank (currently set to 64)\n",
        "   - Modify target modules\n",
        "   - Fine-tune the learning rate\n",
        "\n",
        "3. Output Token Optimization\n",
        "   - Experiment with alternative labels (e.g., \"YES\"/\"NO\" instead of \"covered\"/\"not covered\")\n",
        "   - Try different response formats\n",
        "   - Adjust max token length\n",
        "\n",
        "Also note that the temperature is set to 0.8 which is usually quite high for such a task but useful in the case of GRPO in the second part.\n",
        "\n",
        "Feel free to try these modifications to potentially improve the model's accuracy and performance."
      ]
    },
    {
      "cell_type": "markdown",
      "metadata": {
        "id": "MA5ByqinPc0t"
      },
      "source": [
        "## Supervised Fine-Tuning"
      ]
    },
    {
      "cell_type": "markdown",
      "metadata": {
        "id": "FpYljNhKPc0t"
      },
      "source": [
        "Fine-tuning is the process of adjusting a machine learning model's weights to achieve specific goals. In modern LLM development, teams typically follow a three-stage process:\n",
        "\n",
        "1. Pre-training\n",
        "* Model starts with random weights\n",
        "* Trained on vast amounts of internet data\n",
        "* Objective: Optimize next token prediction accuracy\n",
        "\n",
        "2. Supervised Fine-Tuning (SFT)\n",
        "* Focus on teaching the model to follow instructions\n",
        "* Creates \"Instruct\" model versions\n",
        "* Uses smaller, higher-quality datasets\n",
        "* Still employs next token prediction, but with curated instruction sets\n",
        "\n",
        "3. Reinforcement Learning\n",
        "* Further model improvement through self-learning\n",
        "* Can include Human Feedback (RLHF)\n",
        "* Model generates multiple alternatives\n",
        "* Reward function (potentially human feedback) grades responses\n",
        "* Model iteratively improves based on feedback\n",
        "\n",
        "Resource Optimization for Colab Environment\n",
        "\n",
        "While SFT typically demands significant computational resources, we can perform it in Colab using several optimization techniques:\n",
        "\n",
        "1. Model Size\n",
        "* Using a compact 3B parameter model\n",
        "* Well-suited for Colab's T4 GPU limitations\n",
        "\n",
        "2. LoRA (Low-Rank Adaptation)\n",
        "* Instead of full model fine-tuning\n",
        "* Tunes adapter layers in lower-rank space\n",
        "* More efficient than full model training\n",
        "\n",
        "3. Quantization\n",
        "* Similar to QLoRA approach\n",
        "* Backbone model remains in 4-bit precision\n",
        "* LoRA weights and gradients computed in higher precision\n",
        "* Maintains training stability while reducing memory usage\n",
        "\n",
        "All of the above is easily achievable with the library we are using in this workshop: [unsloth](https://docs.unsloth.ai/)"
      ]
    },
    {
      "cell_type": "markdown",
      "metadata": {
        "id": "u2w-w4rpijoA"
      },
      "source": [
        "### Dataset Preparation for SFT\n",
        "\n",
        "In order to leverage hugging face trl SFTTrainer we first need to create a huggingface Dataset which will take care of creating the training batches and torch dataset based on the prompt text and the passed tokenizer"
      ]
    },
    {
      "cell_type": "code",
      "execution_count": null,
      "metadata": {
        "id": "pNxrt6pAPc0t"
      },
      "outputs": [],
      "source": [
        "# we create a huggingface dataset which makes it easy to load into a pytorch dataset\n",
        "# and to use with the trl library / SFTTrainer\n",
        "\n",
        "# we just need a text column for SFT (next token prediction)\n",
        "from datasets import Dataset\n",
        "\n",
        "dataset = Dataset.from_list(\n",
        "    [\n",
        "        {\n",
        "            # we just add covered / not covered to the prompt\n",
        "            # depending on the claim coverage\n",
        "            \"text\": claim_to_prompt(claim)\n",
        "            + (\"covered\" if claim.coverage else \"not covered\")\n",
        "        }\n",
        "        for claim in train_claims\n",
        "    ]\n",
        ")\n"
      ]
    },
    {
      "cell_type": "code",
      "execution_count": null,
      "metadata": {
        "colab": {
          "base_uri": "https://localhost:8080/"
        },
        "id": "_xzXSBUmPc0t",
        "outputId": "2c3c4eec-5c5d-479c-9d4c-55d06d890ea6"
      },
      "outputs": [
        {
          "name": "stdout",
          "output_type": "stream",
          "text": [
            "<|im_start|>system\n",
            "You are Qwen, created by Alibaba Cloud. You are a helpful assistant.<|im_end|>\n",
            "<|im_start|>user\n",
            "You are an Insurance Claim Expert.\n",
            "You are given a claim description and a list of sources extracted from the insurance policy.\n",
            "You need to determine if the claim is covered by the insurance policy based on the sources.\n",
            "\n",
            "Claim description:\n",
            "During a routine inspection, government officials arrived at the garage and declared that several car spare parts, including the catalytic converter and the exhaust system, were not compliant with new environmental regulations. Without prior notice, they ordered the immediate confiscation of these parts, citing the need to uphold public safety standards. Is there any recourse available for unexpected regulatory compliance issues?\n",
            "\n",
            "Sources:\n",
            "1. You are not covered for the following:\n",
            "2. Confiscation or requisition or destruction by, or under the order of, any government or public or land authority.\n",
            "\n",
            "Format:\n",
            "Return only \"covered\" or \"not covered\"<|im_end|>\n",
            "<|im_start|>assistant\n",
            "not covered\n"
          ]
        }
      ],
      "source": [
        "print(dataset[0][\"text\"])"
      ]
    },
    {
      "cell_type": "markdown",
      "metadata": {
        "id": "ARUiFj0dPc0t"
      },
      "source": [
        "### Note on DataCollator\n",
        "\n",
        "The DataCollator combine individual examples into training batches. It handles tokenization and padding of text sequences. It also ensures consistent input format for the model (usually and in this case torch tensor).\n",
        "\n",
        "For our task of claim coverage check there are 2 SFT learning approaches that could be interesting and worth trying:\n",
        "\n",
        "1. Full Sequence Learning\n",
        "* Model learns from both prompt and output tokens\n",
        "* May help model better understand the domain\n",
        "* Requires more computational resources\n",
        "* Common in API-based fine-tuning services\n",
        "\n",
        "2. Completion-Only Learning\n",
        "* Model learns only from the output tokens\n",
        "* More resource-efficient\n",
        "* Focused specifically on improving responses\n",
        "\n",
        "\n",
        "- https://github.com/huggingface/trl/issues/632 trl issue where this is explained and there is no definite conclusion on the matter.\n",
        "- https://huggingface.co/docs/trl/en/sft_trainer#train-on-completions-only we will train on completion only this time but feel free to explore with default."
      ]
    },
    {
      "cell_type": "code",
      "execution_count": null,
      "metadata": {
        "id": "9FmpsHmwPc0t"
      },
      "outputs": [],
      "source": [
        "# collator is responsible to format the text into batch of inputs for the model\n",
        "from trl import DataCollatorForCompletionOnlyLM\n",
        "\n",
        "response_template = \"<|im_start|>assistant\\n\"\n",
        "collator = DataCollatorForCompletionOnlyLM(response_template, tokenizer=tokenizer)"
      ]
    },
    {
      "cell_type": "markdown",
      "metadata": {},
      "source": [
        "### Run the trainer / training loop"
      ]
    },
    {
      "cell_type": "code",
      "execution_count": null,
      "metadata": {
        "colab": {
          "base_uri": "https://localhost:8080/",
          "height": 105,
          "referenced_widgets": [
            "656fdb7acf614bb4b5f283140d1c73af",
            "4fe2de8d600f4203a21b7d9850dd4033",
            "46c76de7cfdf441e98a5458868c8ab33",
            "745fb46ab2cc48e58a60fa24cca256ba",
            "6e512c30d61b46fb86916990f36948d8",
            "e41444a6073c4de38e9b50e8bff3f037",
            "0164cbd1429b4eb890a53e815dba958b",
            "09abcda860834f53a49fa8219173f3fe",
            "61ec329807944556a042ce6a650c3a20",
            "1f7943ac5d124304838ce564d51fd406",
            "6a1c371160794115b92f556e45b0c4ec"
          ]
        },
        "id": "FDfpra4FPc0t",
        "outputId": "4741c7d4-3933-4ead-f5be-a9ccd1ef4915"
      },
      "outputs": [
        {
          "name": "stderr",
          "output_type": "stream",
          "text": [
            "torch.distributed process group is initialized, but parallel_mode != ParallelMode.DISTRIBUTED. In order to use Torch DDP, launch your script with `python -m torch.distributed.launch\n",
            "torch.distributed process group is initialized, but parallel_mode != ParallelMode.DISTRIBUTED. In order to use Torch DDP, launch your script with `python -m torch.distributed.launch\n"
          ]
        },
        {
          "data": {
            "application/vnd.jupyter.widget-view+json": {
              "model_id": "656fdb7acf614bb4b5f283140d1c73af",
              "version_major": 2,
              "version_minor": 0
            },
            "text/plain": [
              "Map (num_proc=2):   0%|          | 0/320 [00:00<?, ? examples/s]"
            ]
          },
          "metadata": {},
          "output_type": "display_data"
        }
      ],
      "source": [
        "from trl import SFTTrainer\n",
        "from transformers import TrainingArguments\n",
        "from unsloth import is_bfloat16_supported\n",
        "\n",
        "trainer = SFTTrainer(\n",
        "    model=model,\n",
        "    tokenizer=tokenizer,\n",
        "    train_dataset=dataset,\n",
        "    dataset_text_field=\"text\",\n",
        "    max_seq_length=max_seq_length,\n",
        "    dataset_num_proc=2,\n",
        "    packing=False,  # Can make training 5x faster for short sequences.\n",
        "    args=TrainingArguments(\n",
        "        per_device_train_batch_size=2,  # batch size = 2\n",
        "        gradient_accumulation_steps=4,  # accumulate gradients 4 times -> equivalent to batch size 8\n",
        "        warmup_steps=5,\n",
        "        num_train_epochs=1,  # Set this for 1 full training run.\n",
        "        # max_steps=60,\n",
        "        learning_rate=2e-4,\n",
        "        fp16=not is_bfloat16_supported(),\n",
        "        bf16=is_bfloat16_supported(),\n",
        "        logging_steps=1,\n",
        "        optim=\"adamw_8bit\",\n",
        "        weight_decay=0.01,\n",
        "        lr_scheduler_type=\"linear\",\n",
        "        seed=3407,\n",
        "        output_dir=\"outputs\",\n",
        "        report_to=\"none\",  # Use this for WandB etc\n",
        "    ),\n",
        "    data_collator=collator,\n",
        ")"
      ]
    },
    {
      "cell_type": "code",
      "execution_count": null,
      "metadata": {
        "colab": {
          "base_uri": "https://localhost:8080/",
          "height": 1000
        },
        "collapsed": true,
        "id": "w46OoBAxPc0u",
        "outputId": "46bba4ad-767b-42fd-a9d4-638499ac39a8"
      },
      "outputs": [
        {
          "name": "stderr",
          "output_type": "stream",
          "text": [
            "==((====))==  Unsloth - 2x faster free finetuning | Num GPUs = 1\n",
            "   \\\\   /|    Num examples = 320 | Num Epochs = 1\n",
            "O^O/ \\_/ \\    Batch size per device = 2 | Gradient Accumulation steps = 4\n",
            "\\        /    Total batch size = 8 | Total steps = 40\n",
            " \"-____-\"     Number of trainable parameters = 119,734,272\n"
          ]
        },
        {
          "data": {
            "text/html": [
              "\n",
              "    <div>\n",
              "      \n",
              "      <progress value='40' max='40' style='width:300px; height:20px; vertical-align: middle;'></progress>\n",
              "      [40/40 03:17, Epoch 1/1]\n",
              "    </div>\n",
              "    <table border=\"1\" class=\"dataframe\">\n",
              "  <thead>\n",
              " <tr style=\"text-align: left;\">\n",
              "      <th>Step</th>\n",
              "      <th>Training Loss</th>\n",
              "    </tr>\n",
              "  </thead>\n",
              "  <tbody>\n",
              "    <tr>\n",
              "      <td>1</td>\n",
              "      <td>1.025100</td>\n",
              "    </tr>\n",
              "    <tr>\n",
              "      <td>2</td>\n",
              "      <td>0.955000</td>\n",
              "    </tr>\n",
              "    <tr>\n",
              "      <td>3</td>\n",
              "      <td>0.955500</td>\n",
              "    </tr>\n",
              "    <tr>\n",
              "      <td>4</td>\n",
              "      <td>0.725300</td>\n",
              "    </tr>\n",
              "    <tr>\n",
              "      <td>5</td>\n",
              "      <td>0.427800</td>\n",
              "    </tr>\n",
              "    <tr>\n",
              "      <td>6</td>\n",
              "      <td>0.355700</td>\n",
              "    </tr>\n",
              "    <tr>\n",
              "      <td>7</td>\n",
              "      <td>0.809200</td>\n",
              "    </tr>\n",
              "    <tr>\n",
              "      <td>8</td>\n",
              "      <td>0.203800</td>\n",
              "    </tr>\n",
              "    <tr>\n",
              "      <td>9</td>\n",
              "      <td>0.445400</td>\n",
              "    </tr>\n",
              "    <tr>\n",
              "      <td>10</td>\n",
              "      <td>0.704600</td>\n",
              "    </tr>\n",
              "    <tr>\n",
              "      <td>11</td>\n",
              "      <td>0.263100</td>\n",
              "    </tr>\n",
              "    <tr>\n",
              "      <td>12</td>\n",
              "      <td>0.355000</td>\n",
              "    </tr>\n",
              "    <tr>\n",
              "      <td>13</td>\n",
              "      <td>0.188400</td>\n",
              "    </tr>\n",
              "    <tr>\n",
              "      <td>14</td>\n",
              "      <td>0.269000</td>\n",
              "    </tr>\n",
              "    <tr>\n",
              "      <td>15</td>\n",
              "      <td>0.129800</td>\n",
              "    </tr>\n",
              "    <tr>\n",
              "      <td>16</td>\n",
              "      <td>1.049400</td>\n",
              "    </tr>\n",
              "    <tr>\n",
              "      <td>17</td>\n",
              "      <td>0.064500</td>\n",
              "    </tr>\n",
              "    <tr>\n",
              "      <td>18</td>\n",
              "      <td>0.439300</td>\n",
              "    </tr>\n",
              "    <tr>\n",
              "      <td>19</td>\n",
              "      <td>0.574700</td>\n",
              "    </tr>\n",
              "    <tr>\n",
              "      <td>20</td>\n",
              "      <td>0.077400</td>\n",
              "    </tr>\n",
              "    <tr>\n",
              "      <td>21</td>\n",
              "      <td>0.379700</td>\n",
              "    </tr>\n",
              "    <tr>\n",
              "      <td>22</td>\n",
              "      <td>0.241900</td>\n",
              "    </tr>\n",
              "    <tr>\n",
              "      <td>23</td>\n",
              "      <td>0.233300</td>\n",
              "    </tr>\n",
              "    <tr>\n",
              "      <td>24</td>\n",
              "      <td>0.242900</td>\n",
              "    </tr>\n",
              "    <tr>\n",
              "      <td>25</td>\n",
              "      <td>0.272900</td>\n",
              "    </tr>\n",
              "    <tr>\n",
              "      <td>26</td>\n",
              "      <td>0.129200</td>\n",
              "    </tr>\n",
              "    <tr>\n",
              "      <td>27</td>\n",
              "      <td>0.175800</td>\n",
              "    </tr>\n",
              "    <tr>\n",
              "      <td>28</td>\n",
              "      <td>0.281100</td>\n",
              "    </tr>\n",
              "    <tr>\n",
              "      <td>29</td>\n",
              "      <td>0.214000</td>\n",
              "    </tr>\n",
              "    <tr>\n",
              "      <td>30</td>\n",
              "      <td>0.087200</td>\n",
              "    </tr>\n",
              "    <tr>\n",
              "      <td>31</td>\n",
              "      <td>0.201600</td>\n",
              "    </tr>\n",
              "    <tr>\n",
              "      <td>32</td>\n",
              "      <td>0.014600</td>\n",
              "    </tr>\n",
              "    <tr>\n",
              "      <td>33</td>\n",
              "      <td>0.038000</td>\n",
              "    </tr>\n",
              "    <tr>\n",
              "      <td>34</td>\n",
              "      <td>0.125900</td>\n",
              "    </tr>\n",
              "    <tr>\n",
              "      <td>35</td>\n",
              "      <td>0.098600</td>\n",
              "    </tr>\n",
              "    <tr>\n",
              "      <td>36</td>\n",
              "      <td>0.035800</td>\n",
              "    </tr>\n",
              "    <tr>\n",
              "      <td>37</td>\n",
              "      <td>0.049600</td>\n",
              "    </tr>\n",
              "    <tr>\n",
              "      <td>38</td>\n",
              "      <td>0.044100</td>\n",
              "    </tr>\n",
              "    <tr>\n",
              "      <td>39</td>\n",
              "      <td>0.182000</td>\n",
              "    </tr>\n",
              "    <tr>\n",
              "      <td>40</td>\n",
              "      <td>0.046800</td>\n",
              "    </tr>\n",
              "  </tbody>\n",
              "</table><p>"
            ],
            "text/plain": [
              "<IPython.core.display.HTML object>"
            ]
          },
          "metadata": {},
          "output_type": "display_data"
        }
      ],
      "source": [
        "trainer_stats = trainer.train()"
      ]
    },
    {
      "cell_type": "markdown",
      "metadata": {},
      "source": [
        "### Perform Inference\n",
        "\n",
        "In this section we perform inference again on the test dataset with the fine-tuned model to compare the results."
      ]
    },
    {
      "cell_type": "code",
      "execution_count": null,
      "metadata": {
        "colab": {
          "base_uri": "https://localhost:8080/"
        },
        "id": "UdNoEVipPc0y",
        "outputId": "8ff2e7b9-efd7-469b-e954-d949e0f19992"
      },
      "outputs": [
        {
          "name": "stderr",
          "output_type": "stream",
          "text": [
            "Processed prompts: 100%|██████████| 80/80 [00:13<00:00,  5.93it/s, est. speed input: 2176.94 toks/s, output: 11.87 toks/s]\n"
          ]
        }
      ],
      "source": [
        "from vllm import SamplingParams\n",
        "\n",
        "sampling_params = SamplingParams(\n",
        "    temperature=0.8,\n",
        "    top_p=0.95,\n",
        "    max_tokens=2,  # set to 2 as not covered is 2 tokens\n",
        ")\n",
        "outputs = model.fast_generate(\n",
        "    prompts,\n",
        "    sampling_params=sampling_params,\n",
        "    lora_request=None,\n",
        ")"
      ]
    },
    {
      "cell_type": "code",
      "execution_count": null,
      "metadata": {
        "colab": {
          "base_uri": "https://localhost:8080/"
        },
        "id": "_2pySsUJPc0y",
        "outputId": "1dea8d0b-0693-4c2f-9e2a-2dee61461aad"
      },
      "outputs": [
        {
          "name": "stdout",
          "output_type": "stream",
          "text": [
            "['not covered', 'covered', 'not covered', 'covered', 'not covered', 'not covered', 'not covered', 'not covered', 'not covered', 'not covered', 'not covered', 'not covered', 'covered', 'covered', 'not covered', 'not covered', 'not covered', 'not covered', 'not covered', 'not covered', 'not covered', 'not covered', 'not covered', 'not covered', 'not covered', 'not covered', 'not covered', 'not covered', 'covered', 'not covered', 'not covered', 'not covered', 'covered', 'not covered', 'not covered', 'not covered', 'not covered', 'not covered', 'not covered', 'not covered', 'not covered', 'not covered', 'not covered', 'not covered', 'not covered', 'covered', 'not covered', 'not covered', 'covered', 'not covered', 'not covered', 'not covered', 'not covered', 'not covered', 'not covered', 'not covered', 'not covered', 'not covered', 'not covered', 'not covered', 'covered', 'covered', 'not covered', 'covered', 'not covered', 'not covered', 'not covered', 'not covered', 'not covered', 'not covered', 'not covered', 'not covered', 'not covered', 'not covered', 'not covered', 'covered', 'not covered', 'not covered', 'covered', 'not covered']\n"
          ]
        }
      ],
      "source": [
        "responses = []\n",
        "for response_output in outputs:\n",
        "    responses.append(response_output.outputs[0].text)\n",
        "\n",
        "print(responses)"
      ]
    },
    {
      "cell_type": "code",
      "execution_count": null,
      "metadata": {
        "colab": {
          "base_uri": "https://localhost:8080/"
        },
        "id": "Z1gz59F8Pc0y",
        "outputId": "160b4f2e-89d6-4470-f86d-be5b12fa8ba6"
      },
      "outputs": [
        {
          "name": "stdout",
          "output_type": "stream",
          "text": [
            "Predicted 13 claims as covered\n",
            "Predicted 67 claims as not covered\n"
          ]
        }
      ],
      "source": [
        "print(\n",
        "    f\"Predicted {len([response for response in responses if response == 'covered'])} claims as covered\"\n",
        ")\n",
        "print(\n",
        "    f\"Predicted {len([response for response in responses if response == 'not covered'])} claims as not covered\"\n",
        ")"
      ]
    },
    {
      "cell_type": "code",
      "execution_count": null,
      "metadata": {
        "colab": {
          "base_uri": "https://localhost:8080/"
        },
        "id": "KSfd9LndPc0y",
        "outputId": "f41118c2-3877-4f5b-81fb-c5000dbefcbc"
      },
      "outputs": [
        {
          "name": "stdout",
          "output_type": "stream",
          "text": [
            "Accuracy: 0.7375\n",
            "Precision: 0.7692307692307693\n",
            "Recall: 0.35714285714285715\n",
            "F1 Score: 0.4878048780487805\n"
          ]
        }
      ],
      "source": [
        "from sklearn.metrics import accuracy_score, precision_score, recall_score, f1_score\n",
        "\n",
        "\n",
        "y_pred = [response.strip() == \"covered\" for response in responses]\n",
        "y_true = [claim.coverage for claim in test_claims]\n",
        "\n",
        "print(f\"Accuracy: {accuracy_score(y_true, y_pred)}\")\n",
        "print(f\"Precision: {precision_score(y_true, y_pred)}\")\n",
        "print(f\"Recall: {recall_score(y_true, y_pred)}\")\n",
        "print(f\"F1 Score: {f1_score(y_true, y_pred)}\")"
      ]
    },
    {
      "cell_type": "markdown",
      "metadata": {
        "id": "uv4xvJYSPc0y"
      },
      "source": [
        "We know observe better results, we can tweak more to get even better results."
      ]
    },
    {
      "cell_type": "code",
      "execution_count": null,
      "metadata": {
        "id": "DTBQ2nzUPc0y",
        "outputId": "8b782c0e-b83e-4e44-bbdc-74c4207afcfd"
      },
      "outputs": [
        {
          "data": {
            "image/png": "[encoded data removed]",
            "text/plain": [
              "<Figure size 800x600 with 2 Axes>"
            ]
          },
          "metadata": {},
          "output_type": "display_data"
        }
      ],
      "source": [
        "from sklearn.metrics import confusion_matrix\n",
        "import seaborn as sns\n",
        "import matplotlib.pyplot as plt\n",
        "\n",
        "# Convert responses to boolean (True for 'covered', False for 'not covered')\n",
        "y_pred = [response.strip() == \"covered\" for response in responses]\n",
        "y_true = [claim.coverage for claim in test_dataset]\n",
        "\n",
        "# Create confusion matrix\n",
        "cm = confusion_matrix(y_true, y_pred)\n",
        "\n",
        "# Plot using seaborn\n",
        "plt.figure(figsize=(8, 6))\n",
        "sns.heatmap(\n",
        "    cm,\n",
        "    annot=True,\n",
        "    fmt=\"d\",\n",
        "    cmap=\"Blues\",\n",
        "    xticklabels=[\"Not Covered\", \"Covered\"],\n",
        "    yticklabels=[\"Not Covered\", \"Covered\"],\n",
        ")\n",
        "plt.title(\"Confusion Matrix\")\n",
        "plt.ylabel(\"True Label\")\n",
        "plt.xlabel(\"Predicted Label\")\n",
        "plt.show()"
      ]
    },
    {
      "cell_type": "markdown",
      "metadata": {
        "id": "FfD0TyXSnaDG"
      },
      "source": [
        "Now it's your turn to experiment! While we achieved comparable results to our baseline, there's significant room for improvement. Here are some key areas you can explore:\n",
        "\n",
        "1. Training Parameters\n",
        "   - Adjust the learning rate (currently 2e-4)\n",
        "   - Modify the number of epochs (currently 1)\n",
        "   - Try different batch sizes or gradient accumulation steps\n",
        "   - Experiment with different optimizers or scheduler types\n",
        "\n",
        "2. Model Architecture\n",
        "   - Modify the LoRA rank (currently 64)\n",
        "   - Try different target modules for LoRA adaptation\n",
        "   - Experiment with different quantization settings\n",
        "\n",
        "3. Training Strategy\n",
        "   - Switch from completion-only to full sequence learning\n",
        "   - Try different prompt templates\n",
        "   - Experiment with different response formats\n",
        "\n",
        "Take some time to modify these parameters and observe their impact on the model's performance. Remember to:\n",
        "- Keep track of your changes and their effects\n",
        "- Compare metrics (accuracy, precision, recall, F1) across different configurations\n",
        "- Consider the trade-offs between training time and performance improvements\n",
        "\n",
        "What combination of parameters will you discover that leads to better results?"
      ]
    },
    {
      "cell_type": "markdown",
      "metadata": {},
      "source": []
    }
  ],
  "metadata": {
    "accelerator": "GPU",
    "colab": {
      "gpuType": "T4",
      "include_colab_link": true,
      "provenance": []
    },
    "kernelspec": {
      "display_name": "Python 3",
      "name": "python3"
    },
    "language_info": {
      "codemirror_mode": {
        "name": "ipython",
        "version": 3
      },
      "file_extension": ".py",
      "mimetype": "text/x-python",
      "name": "python",
      "nbconvert_exporter": "python",
      "pygments_lexer": "ipython3",
      "version": "3.12.8"
    },
    "widgets": {
      "application/vnd.jupyter.widget-state+json": {
        "0164cbd1429b4eb890a53e815dba958b": {
          "model_module": "@jupyter-widgets/controls",
          "model_module_version": "1.5.0",
          "model_name": "DescriptionStyleModel",
          "state": {
            "_model_module": "@jupyter-widgets/controls",
            "_model_module_version": "1.5.0",
            "_model_name": "DescriptionStyleModel",
            "_view_count": null,
            "_view_module": "@jupyter-widgets/base",
            "_view_module_version": "1.2.0",
            "_view_name": "StyleView",
            "description_width": ""
          }
        },
        "09abcda860834f53a49fa8219173f3fe": {
          "model_module": "@jupyter-widgets/base",
          "model_module_version": "1.2.0",
          "model_name": "LayoutModel",
          "state": {
            "_model_module": "@jupyter-widgets/base",
            "_model_module_version": "1.2.0",
            "_model_name": "LayoutModel",
            "_view_count": null,
            "_view_module": "@jupyter-widgets/base",
            "_view_module_version": "1.2.0",
            "_view_name": "LayoutView",
            "align_content": null,
            "align_items": null,
            "align_self": null,
            "border": null,
            "bottom": null,
            "display": null,
            "flex": null,
            "flex_flow": null,
            "grid_area": null,
            "grid_auto_columns": null,
            "grid_auto_flow": null,
            "grid_auto_rows": null,
            "grid_column": null,
            "grid_gap": null,
            "grid_row": null,
            "grid_template_areas": null,
            "grid_template_columns": null,
            "grid_template_rows": null,
            "height": null,
            "justify_content": null,
            "justify_items": null,
            "left": null,
            "margin": null,
            "max_height": null,
            "max_width": null,
            "min_height": null,
            "min_width": null,
            "object_fit": null,
            "object_position": null,
            "order": null,
            "overflow": null,
            "overflow_x": null,
            "overflow_y": null,
            "padding": null,
            "right": null,
            "top": null,
            "visibility": null,
            "width": null
          }
        },
        "1032cfed967f463787397324c3214358": {
          "model_module": "@jupyter-widgets/base",
          "model_module_version": "1.2.0",
          "model_name": "LayoutModel",
          "state": {
            "_model_module": "@jupyter-widgets/base",
            "_model_module_version": "1.2.0",
            "_model_name": "LayoutModel",
            "_view_count": null,
            "_view_module": "@jupyter-widgets/base",
            "_view_module_version": "1.2.0",
            "_view_name": "LayoutView",
            "align_content": null,
            "align_items": null,
            "align_self": null,
            "border": null,
            "bottom": null,
            "display": null,
            "flex": null,
            "flex_flow": null,
            "grid_area": null,
            "grid_auto_columns": null,
            "grid_auto_flow": null,
            "grid_auto_rows": null,
            "grid_column": null,
            "grid_gap": null,
            "grid_row": null,
            "grid_template_areas": null,
            "grid_template_columns": null,
            "grid_template_rows": null,
            "height": null,
            "justify_content": null,
            "justify_items": null,
            "left": null,
            "margin": null,
            "max_height": null,
            "max_width": null,
            "min_height": null,
            "min_width": null,
            "object_fit": null,
            "object_position": null,
            "order": null,
            "overflow": null,
            "overflow_x": null,
            "overflow_y": null,
            "padding": null,
            "right": null,
            "top": null,
            "visibility": null,
            "width": null
          }
        },
        "1f7943ac5d124304838ce564d51fd406": {
          "model_module": "@jupyter-widgets/base",
          "model_module_version": "1.2.0",
          "model_name": "LayoutModel",
          "state": {
            "_model_module": "@jupyter-widgets/base",
            "_model_module_version": "1.2.0",
            "_model_name": "LayoutModel",
            "_view_count": null,
            "_view_module": "@jupyter-widgets/base",
            "_view_module_version": "1.2.0",
            "_view_name": "LayoutView",
            "align_content": null,
            "align_items": null,
            "align_self": null,
            "border": null,
            "bottom": null,
            "display": null,
            "flex": null,
            "flex_flow": null,
            "grid_area": null,
            "grid_auto_columns": null,
            "grid_auto_flow": null,
            "grid_auto_rows": null,
            "grid_column": null,
            "grid_gap": null,
            "grid_row": null,
            "grid_template_areas": null,
            "grid_template_columns": null,
            "grid_template_rows": null,
            "height": null,
            "justify_content": null,
            "justify_items": null,
            "left": null,
            "margin": null,
            "max_height": null,
            "max_width": null,
            "min_height": null,
            "min_width": null,
            "object_fit": null,
            "object_position": null,
            "order": null,
            "overflow": null,
            "overflow_x": null,
            "overflow_y": null,
            "padding": null,
            "right": null,
            "top": null,
            "visibility": null,
            "width": null
          }
        },
        "289fcccbc5c24c2cb2ba88224095c954": {
          "model_module": "@jupyter-widgets/controls",
          "model_module_version": "1.5.0",
          "model_name": "HTMLModel",
          "state": {
            "_dom_classes": [],
            "_model_module": "@jupyter-widgets/controls",
            "_model_module_version": "1.5.0",
            "_model_name": "HTMLModel",
            "_view_count": null,
            "_view_module": "@jupyter-widgets/controls",
            "_view_module_version": "1.5.0",
            "_view_name": "HTMLView",
            "description": "",
            "description_tooltip": null,
            "layout": "IPY_MODEL_388d59250de9466e8d4bad376ae50754",
            "placeholder": "​",
            "style": "IPY_MODEL_36b3fdcf208045fc9065ad5b3ed83e0f",
            "value": "Loading safetensors checkpoint shards: 100% Completed | 1/1 [00:11&lt;00:00, 11.74s/it]\n"
          }
        },
        "2e68bd332805415b93954b414cd10a6d": {
          "model_module": "@jupyter-widgets/controls",
          "model_module_version": "1.5.0",
          "model_name": "HTMLModel",
          "state": {
            "_dom_classes": [],
            "_model_module": "@jupyter-widgets/controls",
            "_model_module_version": "1.5.0",
            "_model_name": "HTMLModel",
            "_view_count": null,
            "_view_module": "@jupyter-widgets/controls",
            "_view_module_version": "1.5.0",
            "_view_name": "HTMLView",
            "description": "",
            "description_tooltip": null,
            "layout": "IPY_MODEL_4c121acc33084991acad5643e1ef0171",
            "placeholder": "​",
            "style": "IPY_MODEL_ff95cc35a1414f9aab2ded2487af89fe",
            "value": ""
          }
        },
        "36b3fdcf208045fc9065ad5b3ed83e0f": {
          "model_module": "@jupyter-widgets/controls",
          "model_module_version": "1.5.0",
          "model_name": "DescriptionStyleModel",
          "state": {
            "_model_module": "@jupyter-widgets/controls",
            "_model_module_version": "1.5.0",
            "_model_name": "DescriptionStyleModel",
            "_view_count": null,
            "_view_module": "@jupyter-widgets/base",
            "_view_module_version": "1.2.0",
            "_view_name": "StyleView",
            "description_width": ""
          }
        },
        "388d59250de9466e8d4bad376ae50754": {
          "model_module": "@jupyter-widgets/base",
          "model_module_version": "1.2.0",
          "model_name": "LayoutModel",
          "state": {
            "_model_module": "@jupyter-widgets/base",
            "_model_module_version": "1.2.0",
            "_model_name": "LayoutModel",
            "_view_count": null,
            "_view_module": "@jupyter-widgets/base",
            "_view_module_version": "1.2.0",
            "_view_name": "LayoutView",
            "align_content": null,
            "align_items": null,
            "align_self": null,
            "border": null,
            "bottom": null,
            "display": null,
            "flex": null,
            "flex_flow": null,
            "grid_area": null,
            "grid_auto_columns": null,
            "grid_auto_flow": null,
            "grid_auto_rows": null,
            "grid_column": null,
            "grid_gap": null,
            "grid_row": null,
            "grid_template_areas": null,
            "grid_template_columns": null,
            "grid_template_rows": null,
            "height": null,
            "justify_content": null,
            "justify_items": null,
            "left": null,
            "margin": null,
            "max_height": null,
            "max_width": null,
            "min_height": null,
            "min_width": null,
            "object_fit": null,
            "object_position": null,
            "order": null,
            "overflow": null,
            "overflow_x": null,
            "overflow_y": null,
            "padding": null,
            "right": null,
            "top": null,
            "visibility": null,
            "width": null
          }
        },
        "41fccef43ad84699ac8318c782edae20": {
          "model_module": "@jupyter-widgets/controls",
          "model_module_version": "1.5.0",
          "model_name": "ProgressStyleModel",
          "state": {
            "_model_module": "@jupyter-widgets/controls",
            "_model_module_version": "1.5.0",
            "_model_name": "ProgressStyleModel",
            "_view_count": null,
            "_view_module": "@jupyter-widgets/base",
            "_view_module_version": "1.2.0",
            "_view_name": "StyleView",
            "bar_color": null,
            "description_width": ""
          }
        },
        "46c76de7cfdf441e98a5458868c8ab33": {
          "model_module": "@jupyter-widgets/controls",
          "model_module_version": "1.5.0",
          "model_name": "FloatProgressModel",
          "state": {
            "_dom_classes": [],
            "_model_module": "@jupyter-widgets/controls",
            "_model_module_version": "1.5.0",
            "_model_name": "FloatProgressModel",
            "_view_count": null,
            "_view_module": "@jupyter-widgets/controls",
            "_view_module_version": "1.5.0",
            "_view_name": "ProgressView",
            "bar_style": "success",
            "description": "",
            "description_tooltip": null,
            "layout": "IPY_MODEL_09abcda860834f53a49fa8219173f3fe",
            "max": 320,
            "min": 0,
            "orientation": "horizontal",
            "style": "IPY_MODEL_61ec329807944556a042ce6a650c3a20",
            "value": 320
          }
        },
        "4c121acc33084991acad5643e1ef0171": {
          "model_module": "@jupyter-widgets/base",
          "model_module_version": "1.2.0",
          "model_name": "LayoutModel",
          "state": {
            "_model_module": "@jupyter-widgets/base",
            "_model_module_version": "1.2.0",
            "_model_name": "LayoutModel",
            "_view_count": null,
            "_view_module": "@jupyter-widgets/base",
            "_view_module_version": "1.2.0",
            "_view_name": "LayoutView",
            "align_content": null,
            "align_items": null,
            "align_self": null,
            "border": null,
            "bottom": null,
            "display": null,
            "flex": null,
            "flex_flow": null,
            "grid_area": null,
            "grid_auto_columns": null,
            "grid_auto_flow": null,
            "grid_auto_rows": null,
            "grid_column": null,
            "grid_gap": null,
            "grid_row": null,
            "grid_template_areas": null,
            "grid_template_columns": null,
            "grid_template_rows": null,
            "height": null,
            "justify_content": null,
            "justify_items": null,
            "left": null,
            "margin": null,
            "max_height": null,
            "max_width": null,
            "min_height": null,
            "min_width": null,
            "object_fit": null,
            "object_position": null,
            "order": null,
            "overflow": null,
            "overflow_x": null,
            "overflow_y": null,
            "padding": null,
            "right": null,
            "top": null,
            "visibility": null,
            "width": null
          }
        },
        "4fe2de8d600f4203a21b7d9850dd4033": {
          "model_module": "@jupyter-widgets/controls",
          "model_module_version": "1.5.0",
          "model_name": "HTMLModel",
          "state": {
            "_dom_classes": [],
            "_model_module": "@jupyter-widgets/controls",
            "_model_module_version": "1.5.0",
            "_model_name": "HTMLModel",
            "_view_count": null,
            "_view_module": "@jupyter-widgets/controls",
            "_view_module_version": "1.5.0",
            "_view_name": "HTMLView",
            "description": "",
            "description_tooltip": null,
            "layout": "IPY_MODEL_e41444a6073c4de38e9b50e8bff3f037",
            "placeholder": "​",
            "style": "IPY_MODEL_0164cbd1429b4eb890a53e815dba958b",
            "value": "Map (num_proc=2): 100%"
          }
        },
        "536a5671b1614b428061ae8a976ec5dc": {
          "model_module": "@jupyter-widgets/base",
          "model_module_version": "1.2.0",
          "model_name": "LayoutModel",
          "state": {
            "_model_module": "@jupyter-widgets/base",
            "_model_module_version": "1.2.0",
            "_model_name": "LayoutModel",
            "_view_count": null,
            "_view_module": "@jupyter-widgets/base",
            "_view_module_version": "1.2.0",
            "_view_name": "LayoutView",
            "align_content": null,
            "align_items": null,
            "align_self": null,
            "border": null,
            "bottom": null,
            "display": null,
            "flex": null,
            "flex_flow": null,
            "grid_area": null,
            "grid_auto_columns": null,
            "grid_auto_flow": null,
            "grid_auto_rows": null,
            "grid_column": null,
            "grid_gap": null,
            "grid_row": null,
            "grid_template_areas": null,
            "grid_template_columns": null,
            "grid_template_rows": null,
            "height": null,
            "justify_content": null,
            "justify_items": null,
            "left": null,
            "margin": null,
            "max_height": null,
            "max_width": null,
            "min_height": null,
            "min_width": null,
            "object_fit": null,
            "object_position": null,
            "order": null,
            "overflow": null,
            "overflow_x": null,
            "overflow_y": null,
            "padding": null,
            "right": null,
            "top": null,
            "visibility": null,
            "width": null
          }
        },
        "5e5ebbd7cde443f2847037248d463bb6": {
          "model_module": "@jupyter-widgets/controls",
          "model_module_version": "1.5.0",
          "model_name": "FloatProgressModel",
          "state": {
            "_dom_classes": [],
            "_model_module": "@jupyter-widgets/controls",
            "_model_module_version": "1.5.0",
            "_model_name": "FloatProgressModel",
            "_view_count": null,
            "_view_module": "@jupyter-widgets/controls",
            "_view_module_version": "1.5.0",
            "_view_name": "ProgressView",
            "bar_style": "success",
            "description": "",
            "description_tooltip": null,
            "layout": "IPY_MODEL_f4bbe1fc94d748968cc68e5febc92a11",
            "max": 1,
            "min": 0,
            "orientation": "horizontal",
            "style": "IPY_MODEL_41fccef43ad84699ac8318c782edae20",
            "value": 1
          }
        },
        "61ec329807944556a042ce6a650c3a20": {
          "model_module": "@jupyter-widgets/controls",
          "model_module_version": "1.5.0",
          "model_name": "ProgressStyleModel",
          "state": {
            "_model_module": "@jupyter-widgets/controls",
            "_model_module_version": "1.5.0",
            "_model_name": "ProgressStyleModel",
            "_view_count": null,
            "_view_module": "@jupyter-widgets/base",
            "_view_module_version": "1.2.0",
            "_view_name": "StyleView",
            "bar_color": null,
            "description_width": ""
          }
        },
        "656fdb7acf614bb4b5f283140d1c73af": {
          "model_module": "@jupyter-widgets/controls",
          "model_module_version": "1.5.0",
          "model_name": "HBoxModel",
          "state": {
            "_dom_classes": [],
            "_model_module": "@jupyter-widgets/controls",
            "_model_module_version": "1.5.0",
            "_model_name": "HBoxModel",
            "_view_count": null,
            "_view_module": "@jupyter-widgets/controls",
            "_view_module_version": "1.5.0",
            "_view_name": "HBoxView",
            "box_style": "",
            "children": [
              "IPY_MODEL_4fe2de8d600f4203a21b7d9850dd4033",
              "IPY_MODEL_46c76de7cfdf441e98a5458868c8ab33",
              "IPY_MODEL_745fb46ab2cc48e58a60fa24cca256ba"
            ],
            "layout": "IPY_MODEL_6e512c30d61b46fb86916990f36948d8"
          }
        },
        "6a1c371160794115b92f556e45b0c4ec": {
          "model_module": "@jupyter-widgets/controls",
          "model_module_version": "1.5.0",
          "model_name": "DescriptionStyleModel",
          "state": {
            "_model_module": "@jupyter-widgets/controls",
            "_model_module_version": "1.5.0",
            "_model_name": "DescriptionStyleModel",
            "_view_count": null,
            "_view_module": "@jupyter-widgets/base",
            "_view_module_version": "1.2.0",
            "_view_name": "StyleView",
            "description_width": ""
          }
        },
        "6e512c30d61b46fb86916990f36948d8": {
          "model_module": "@jupyter-widgets/base",
          "model_module_version": "1.2.0",
          "model_name": "LayoutModel",
          "state": {
            "_model_module": "@jupyter-widgets/base",
            "_model_module_version": "1.2.0",
            "_model_name": "LayoutModel",
            "_view_count": null,
            "_view_module": "@jupyter-widgets/base",
            "_view_module_version": "1.2.0",
            "_view_name": "LayoutView",
            "align_content": null,
            "align_items": null,
            "align_self": null,
            "border": null,
            "bottom": null,
            "display": null,
            "flex": null,
            "flex_flow": null,
            "grid_area": null,
            "grid_auto_columns": null,
            "grid_auto_flow": null,
            "grid_auto_rows": null,
            "grid_column": null,
            "grid_gap": null,
            "grid_row": null,
            "grid_template_areas": null,
            "grid_template_columns": null,
            "grid_template_rows": null,
            "height": null,
            "justify_content": null,
            "justify_items": null,
            "left": null,
            "margin": null,
            "max_height": null,
            "max_width": null,
            "min_height": null,
            "min_width": null,
            "object_fit": null,
            "object_position": null,
            "order": null,
            "overflow": null,
            "overflow_x": null,
            "overflow_y": null,
            "padding": null,
            "right": null,
            "top": null,
            "visibility": null,
            "width": null
          }
        },
        "745fb46ab2cc48e58a60fa24cca256ba": {
          "model_module": "@jupyter-widgets/controls",
          "model_module_version": "1.5.0",
          "model_name": "HTMLModel",
          "state": {
            "_dom_classes": [],
            "_model_module": "@jupyter-widgets/controls",
            "_model_module_version": "1.5.0",
            "_model_name": "HTMLModel",
            "_view_count": null,
            "_view_module": "@jupyter-widgets/controls",
            "_view_module_version": "1.5.0",
            "_view_name": "HTMLView",
            "description": "",
            "description_tooltip": null,
            "layout": "IPY_MODEL_1f7943ac5d124304838ce564d51fd406",
            "placeholder": "​",
            "style": "IPY_MODEL_6a1c371160794115b92f556e45b0c4ec",
            "value": " 320/320 [00:01&lt;00:00, 210.16 examples/s]"
          }
        },
        "7ef821154f89469facd135e6c753bd04": {
          "model_module": "@jupyter-widgets/controls",
          "model_module_version": "1.5.0",
          "model_name": "HTMLModel",
          "state": {
            "_dom_classes": [],
            "_model_module": "@jupyter-widgets/controls",
            "_model_module_version": "1.5.0",
            "_model_name": "HTMLModel",
            "_view_count": null,
            "_view_module": "@jupyter-widgets/controls",
            "_view_module_version": "1.5.0",
            "_view_name": "HTMLView",
            "description": "",
            "description_tooltip": null,
            "layout": "IPY_MODEL_a67dd91a9e4544ffb835f86202cc27c4",
            "placeholder": "​",
            "style": "IPY_MODEL_7f8d0bd0e87e430eaf6ddae0eb88b34e",
            "value": ""
          }
        },
        "7f8d0bd0e87e430eaf6ddae0eb88b34e": {
          "model_module": "@jupyter-widgets/controls",
          "model_module_version": "1.5.0",
          "model_name": "DescriptionStyleModel",
          "state": {
            "_model_module": "@jupyter-widgets/controls",
            "_model_module_version": "1.5.0",
            "_model_name": "DescriptionStyleModel",
            "_view_count": null,
            "_view_module": "@jupyter-widgets/base",
            "_view_module_version": "1.2.0",
            "_view_name": "StyleView",
            "description_width": ""
          }
        },
        "909c70eb218340689e106dbe379c22fa": {
          "model_module": "@jupyter-widgets/controls",
          "model_module_version": "1.5.0",
          "model_name": "HBoxModel",
          "state": {
            "_dom_classes": [],
            "_model_module": "@jupyter-widgets/controls",
            "_model_module_version": "1.5.0",
            "_model_name": "HBoxModel",
            "_view_count": null,
            "_view_module": "@jupyter-widgets/controls",
            "_view_module_version": "1.5.0",
            "_view_name": "HBoxView",
            "box_style": "",
            "children": [
              "IPY_MODEL_2e68bd332805415b93954b414cd10a6d",
              "IPY_MODEL_5e5ebbd7cde443f2847037248d463bb6",
              "IPY_MODEL_f2ef88c4958642eea619392ef21419bc"
            ],
            "layout": "IPY_MODEL_1032cfed967f463787397324c3214358"
          }
        },
        "9771087f47794ebd96fccb9eaaf289be": {
          "model_module": "@jupyter-widgets/controls",
          "model_module_version": "1.5.0",
          "model_name": "DescriptionStyleModel",
          "state": {
            "_model_module": "@jupyter-widgets/controls",
            "_model_module_version": "1.5.0",
            "_model_name": "DescriptionStyleModel",
            "_view_count": null,
            "_view_module": "@jupyter-widgets/base",
            "_view_module_version": "1.2.0",
            "_view_name": "StyleView",
            "description_width": ""
          }
        },
        "978348097ca4443bbe704dc67c08a5df": {
          "model_module": "@jupyter-widgets/controls",
          "model_module_version": "1.5.0",
          "model_name": "FloatProgressModel",
          "state": {
            "_dom_classes": [],
            "_model_module": "@jupyter-widgets/controls",
            "_model_module_version": "1.5.0",
            "_model_name": "FloatProgressModel",
            "_view_count": null,
            "_view_module": "@jupyter-widgets/controls",
            "_view_module_version": "1.5.0",
            "_view_name": "ProgressView",
            "bar_style": "success",
            "description": "",
            "description_tooltip": null,
            "layout": "IPY_MODEL_eff43a3151134d83886809a0a5d6ac25",
            "max": 1,
            "min": 0,
            "orientation": "horizontal",
            "style": "IPY_MODEL_e7e4d0b1e75241d1b146f71288bac94d",
            "value": 1
          }
        },
        "a67dd91a9e4544ffb835f86202cc27c4": {
          "model_module": "@jupyter-widgets/base",
          "model_module_version": "1.2.0",
          "model_name": "LayoutModel",
          "state": {
            "_model_module": "@jupyter-widgets/base",
            "_model_module_version": "1.2.0",
            "_model_name": "LayoutModel",
            "_view_count": null,
            "_view_module": "@jupyter-widgets/base",
            "_view_module_version": "1.2.0",
            "_view_name": "LayoutView",
            "align_content": null,
            "align_items": null,
            "align_self": null,
            "border": null,
            "bottom": null,
            "display": null,
            "flex": null,
            "flex_flow": null,
            "grid_area": null,
            "grid_auto_columns": null,
            "grid_auto_flow": null,
            "grid_auto_rows": null,
            "grid_column": null,
            "grid_gap": null,
            "grid_row": null,
            "grid_template_areas": null,
            "grid_template_columns": null,
            "grid_template_rows": null,
            "height": null,
            "justify_content": null,
            "justify_items": null,
            "left": null,
            "margin": null,
            "max_height": null,
            "max_width": null,
            "min_height": null,
            "min_width": null,
            "object_fit": null,
            "object_position": null,
            "order": null,
            "overflow": null,
            "overflow_x": null,
            "overflow_y": null,
            "padding": null,
            "right": null,
            "top": null,
            "visibility": null,
            "width": null
          }
        },
        "cdf5005557c1412bac6bcb200c5e7477": {
          "model_module": "@jupyter-widgets/controls",
          "model_module_version": "1.5.0",
          "model_name": "HBoxModel",
          "state": {
            "_dom_classes": [],
            "_model_module": "@jupyter-widgets/controls",
            "_model_module_version": "1.5.0",
            "_model_name": "HBoxModel",
            "_view_count": null,
            "_view_module": "@jupyter-widgets/controls",
            "_view_module_version": "1.5.0",
            "_view_name": "HBoxView",
            "box_style": "",
            "children": [
              "IPY_MODEL_7ef821154f89469facd135e6c753bd04",
              "IPY_MODEL_978348097ca4443bbe704dc67c08a5df",
              "IPY_MODEL_289fcccbc5c24c2cb2ba88224095c954"
            ],
            "layout": "IPY_MODEL_536a5671b1614b428061ae8a976ec5dc"
          }
        },
        "e41444a6073c4de38e9b50e8bff3f037": {
          "model_module": "@jupyter-widgets/base",
          "model_module_version": "1.2.0",
          "model_name": "LayoutModel",
          "state": {
            "_model_module": "@jupyter-widgets/base",
            "_model_module_version": "1.2.0",
            "_model_name": "LayoutModel",
            "_view_count": null,
            "_view_module": "@jupyter-widgets/base",
            "_view_module_version": "1.2.0",
            "_view_name": "LayoutView",
            "align_content": null,
            "align_items": null,
            "align_self": null,
            "border": null,
            "bottom": null,
            "display": null,
            "flex": null,
            "flex_flow": null,
            "grid_area": null,
            "grid_auto_columns": null,
            "grid_auto_flow": null,
            "grid_auto_rows": null,
            "grid_column": null,
            "grid_gap": null,
            "grid_row": null,
            "grid_template_areas": null,
            "grid_template_columns": null,
            "grid_template_rows": null,
            "height": null,
            "justify_content": null,
            "justify_items": null,
            "left": null,
            "margin": null,
            "max_height": null,
            "max_width": null,
            "min_height": null,
            "min_width": null,
            "object_fit": null,
            "object_position": null,
            "order": null,
            "overflow": null,
            "overflow_x": null,
            "overflow_y": null,
            "padding": null,
            "right": null,
            "top": null,
            "visibility": null,
            "width": null
          }
        },
        "e7e4d0b1e75241d1b146f71288bac94d": {
          "model_module": "@jupyter-widgets/controls",
          "model_module_version": "1.5.0",
          "model_name": "ProgressStyleModel",
          "state": {
            "_model_module": "@jupyter-widgets/controls",
            "_model_module_version": "1.5.0",
            "_model_name": "ProgressStyleModel",
            "_view_count": null,
            "_view_module": "@jupyter-widgets/base",
            "_view_module_version": "1.2.0",
            "_view_name": "StyleView",
            "bar_color": null,
            "description_width": ""
          }
        },
        "ee5010e00c2246639c4fbdf5f2adff56": {
          "model_module": "@jupyter-widgets/base",
          "model_module_version": "1.2.0",
          "model_name": "LayoutModel",
          "state": {
            "_model_module": "@jupyter-widgets/base",
            "_model_module_version": "1.2.0",
            "_model_name": "LayoutModel",
            "_view_count": null,
            "_view_module": "@jupyter-widgets/base",
            "_view_module_version": "1.2.0",
            "_view_name": "LayoutView",
            "align_content": null,
            "align_items": null,
            "align_self": null,
            "border": null,
            "bottom": null,
            "display": null,
            "flex": null,
            "flex_flow": null,
            "grid_area": null,
            "grid_auto_columns": null,
            "grid_auto_flow": null,
            "grid_auto_rows": null,
            "grid_column": null,
            "grid_gap": null,
            "grid_row": null,
            "grid_template_areas": null,
            "grid_template_columns": null,
            "grid_template_rows": null,
            "height": null,
            "justify_content": null,
            "justify_items": null,
            "left": null,
            "margin": null,
            "max_height": null,
            "max_width": null,
            "min_height": null,
            "min_width": null,
            "object_fit": null,
            "object_position": null,
            "order": null,
            "overflow": null,
            "overflow_x": null,
            "overflow_y": null,
            "padding": null,
            "right": null,
            "top": null,
            "visibility": null,
            "width": null
          }
        },
        "eff43a3151134d83886809a0a5d6ac25": {
          "model_module": "@jupyter-widgets/base",
          "model_module_version": "1.2.0",
          "model_name": "LayoutModel",
          "state": {
            "_model_module": "@jupyter-widgets/base",
            "_model_module_version": "1.2.0",
            "_model_name": "LayoutModel",
            "_view_count": null,
            "_view_module": "@jupyter-widgets/base",
            "_view_module_version": "1.2.0",
            "_view_name": "LayoutView",
            "align_content": null,
            "align_items": null,
            "align_self": null,
            "border": null,
            "bottom": null,
            "display": null,
            "flex": null,
            "flex_flow": null,
            "grid_area": null,
            "grid_auto_columns": null,
            "grid_auto_flow": null,
            "grid_auto_rows": null,
            "grid_column": null,
            "grid_gap": null,
            "grid_row": null,
            "grid_template_areas": null,
            "grid_template_columns": null,
            "grid_template_rows": null,
            "height": null,
            "justify_content": null,
            "justify_items": null,
            "left": null,
            "margin": null,
            "max_height": null,
            "max_width": null,
            "min_height": null,
            "min_width": null,
            "object_fit": null,
            "object_position": null,
            "order": null,
            "overflow": null,
            "overflow_x": null,
            "overflow_y": null,
            "padding": null,
            "right": null,
            "top": null,
            "visibility": null,
            "width": null
          }
        },
        "f2ef88c4958642eea619392ef21419bc": {
          "model_module": "@jupyter-widgets/controls",
          "model_module_version": "1.5.0",
          "model_name": "HTMLModel",
          "state": {
            "_dom_classes": [],
            "_model_module": "@jupyter-widgets/controls",
            "_model_module_version": "1.5.0",
            "_model_name": "HTMLModel",
            "_view_count": null,
            "_view_module": "@jupyter-widgets/controls",
            "_view_module_version": "1.5.0",
            "_view_name": "HTMLView",
            "description": "",
            "description_tooltip": null,
            "layout": "IPY_MODEL_ee5010e00c2246639c4fbdf5f2adff56",
            "placeholder": "​",
            "style": "IPY_MODEL_9771087f47794ebd96fccb9eaaf289be",
            "value": "Loading safetensors checkpoint shards: 100% Completed | 1/1 [00:01&lt;00:00,  1.16s/it]\n"
          }
        },
        "f4bbe1fc94d748968cc68e5febc92a11": {
          "model_module": "@jupyter-widgets/base",
          "model_module_version": "1.2.0",
          "model_name": "LayoutModel",
          "state": {
            "_model_module": "@jupyter-widgets/base",
            "_model_module_version": "1.2.0",
            "_model_name": "LayoutModel",
            "_view_count": null,
            "_view_module": "@jupyter-widgets/base",
            "_view_module_version": "1.2.0",
            "_view_name": "LayoutView",
            "align_content": null,
            "align_items": null,
            "align_self": null,
            "border": null,
            "bottom": null,
            "display": null,
            "flex": null,
            "flex_flow": null,
            "grid_area": null,
            "grid_auto_columns": null,
            "grid_auto_flow": null,
            "grid_auto_rows": null,
            "grid_column": null,
            "grid_gap": null,
            "grid_row": null,
            "grid_template_areas": null,
            "grid_template_columns": null,
            "grid_template_rows": null,
            "height": null,
            "justify_content": null,
            "justify_items": null,
            "left": null,
            "margin": null,
            "max_height": null,
            "max_width": null,
            "min_height": null,
            "min_width": null,
            "object_fit": null,
            "object_position": null,
            "order": null,
            "overflow": null,
            "overflow_x": null,
            "overflow_y": null,
            "padding": null,
            "right": null,
            "top": null,
            "visibility": null,
            "width": null
          }
        },
        "ff95cc35a1414f9aab2ded2487af89fe": {
          "model_module": "@jupyter-widgets/controls",
          "model_module_version": "1.5.0",
          "model_name": "DescriptionStyleModel",
          "state": {
            "_model_module": "@jupyter-widgets/controls",
            "_model_module_version": "1.5.0",
            "_model_name": "DescriptionStyleModel",
            "_view_count": null,
            "_view_module": "@jupyter-widgets/base",
            "_view_module_version": "1.2.0",
            "_view_name": "StyleView",
            "description_width": ""
          }
        }
      }
    }
  },
  "nbformat": 4,
  "nbformat_minor": 0
}
